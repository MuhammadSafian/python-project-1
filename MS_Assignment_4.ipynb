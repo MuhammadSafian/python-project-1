{
 "cells": [
  {
   "cell_type": "markdown",
   "id": "52da542a-d7e9-4805-92ee-b5d5f5bcdcc3",
   "metadata": {},
   "source": [
    "#                                          Strings Assignments "
   ]
  },
  {
   "cell_type": "markdown",
   "id": "342c99d1-53c2-41f4-a2b0-730a7db3b9e6",
   "metadata": {},
   "source": [
    "### 1.\tWrite a program that accepts a string from user. Your program should count and display number of vowels in that string.  "
   ]
  },
  {
   "cell_type": "code",
   "execution_count": 1,
   "id": "d29c3d93-be7f-4dce-b29d-7f859674bc4d",
   "metadata": {},
   "outputs": [
    {
     "name": "stdin",
     "output_type": "stream",
     "text": [
      "Enter any character: sufyan\n"
     ]
    }
   ],
   "source": [
    "string=str(input(\"Enter any character:\"))"
   ]
  },
  {
   "cell_type": "code",
   "execution_count": 6,
   "id": "80a8b857-3418-435a-bb0a-193e662f7251",
   "metadata": {},
   "outputs": [],
   "source": [
    "check_1=string.count(vowel_1)\n",
    "check_2=string.count(vowel_2)\n",
    "check_3=string.count(vowel_3)\n",
    "check_4=string.count(vowel_4)\n",
    "check_5=string.count(vowel_5)"
   ]
  },
  {
   "cell_type": "code",
   "execution_count": 5,
   "id": "8e70b4a0-ae4a-40e6-892c-24750f1e3d5d",
   "metadata": {},
   "outputs": [],
   "source": [
    "vowel_1=\"a\"\n",
    "vowel_2=\"e\"\n",
    "vowel_3=\"i\"\n",
    "vowel_4=\"o\"\n",
    "vowel_5=\"u\""
   ]
  },
  {
   "cell_type": "code",
   "execution_count": 7,
   "id": "6d7e1b62-f615-4c4a-bd3e-3a42abc912c6",
   "metadata": {},
   "outputs": [],
   "source": [
    "vowels=check_1+check_2+check_3+check_4+check_5"
   ]
  },
  {
   "cell_type": "code",
   "execution_count": 8,
   "id": "a417786a-4ba3-4439-9443-b5ec7db8475f",
   "metadata": {},
   "outputs": [
    {
     "name": "stdout",
     "output_type": "stream",
     "text": [
      "No of vowels in given character! 2\n"
     ]
    }
   ],
   "source": [
    "print(f\"No of vowels in given character! {vowels}\")"
   ]
  },
  {
   "cell_type": "markdown",
   "id": "f860bee6-c811-4f93-bb0d-0aa1fd0d4838",
   "metadata": {},
   "source": [
    "### 2.\tWrite a program that reads a string from keyboard and display: \n",
    "*\tThe number of uppercase letters in the string \n",
    "*\tThe number of lowercase letters in the string \n",
    "*\tThe number of digits in the string \n",
    "*\tThe number of whitespace characters in the string  \n"
   ]
  },
  {
   "cell_type": "code",
   "execution_count": 3,
   "id": "4d57076f-3337-408e-b11c-f47918a18267",
   "metadata": {},
   "outputs": [
    {
     "name": "stdin",
     "output_type": "stream",
     "text": [
      "Enter a string:  Ali Is A Good Boy 11\n"
     ]
    },
    {
     "name": "stdout",
     "output_type": "stream",
     "text": [
      "Uppercase letters: 5\n",
      "Lowercase letters: 8\n",
      "Digits: 2\n",
      "Whitespace characters: 5\n"
     ]
    }
   ],
   "source": [
    "user_string = input(\"Enter a string: \")\n",
    "uppercase_count = 0 \n",
    "lowercase_count = 0\n",
    "digit_count = 0\n",
    "whitespace_count = 0\n",
    "for i in range(len(user_string)):\n",
    "    if user_string[i].isupper():\n",
    "        uppercase_count += 1\n",
    "    elif user_string[i].islower():\n",
    "            lowercase_count += 1\n",
    "    elif user_string[i].isdigit():\n",
    "            digit_count += 1\n",
    "    elif user_string[i].isspace():\n",
    "            whitespace_count += 1\n",
    "print(\"Uppercase letters:\", uppercase_count)\n",
    "print(\"Lowercase letters:\", lowercase_count)\n",
    "print(\"Digits:\", digit_count)\n",
    "print(\"Whitespace characters:\", whitespace_count)"
   ]
  },
  {
   "cell_type": "markdown",
   "id": "620bd7e0-7ad5-4b00-96ff-2d0fdf7681d0",
   "metadata": {},
   "source": [
    "###  3. Write a Python program that accepts a string from user. Your program should create and display a new string where the first and last characters have been exchanged. For example if the user enters the string 'HELLO' then new string would be 'OELLH"
   ]
  },
  {
   "cell_type": "code",
   "execution_count": 6,
   "id": "e00d467d-8f7e-4715-86e5-6442bbf8b550",
   "metadata": {},
   "outputs": [
    {
     "name": "stdin",
     "output_type": "stream",
     "text": [
      "Enter a string:  HELLO\n"
     ]
    },
    {
     "data": {
      "text/plain": [
       "'OELLH'"
      ]
     },
     "execution_count": 6,
     "metadata": {},
     "output_type": "execute_result"
    }
   ],
   "source": [
    "user_string = input(\"Enter a string: \")\n",
    "swapped_string = user_string[-1] + user_string[1:-1] + user_string[0]\n",
    "swapped_string"
   ]
  },
  {
   "cell_type": "markdown",
   "id": "13e8cf4e-df95-4f00-b1e5-a1d1b30e16bb",
   "metadata": {},
   "source": [
    "### 4. Write a Python program that accepts a string from user. Your program should create a new string in reverse of first string and display it. For example if the user enters the string 'EXAM' then new string would be 'MAXE' \n"
   ]
  },
  {
   "cell_type": "code",
   "execution_count": 10,
   "id": "ef6eb4e1-669f-402c-8495-ecd4cc3a3659",
   "metadata": {},
   "outputs": [
    {
     "name": "stdin",
     "output_type": "stream",
     "text": [
      "Enter a string:  exam\n"
     ]
    },
    {
     "data": {
      "text/plain": [
       "'maxe'"
      ]
     },
     "execution_count": 10,
     "metadata": {},
     "output_type": "execute_result"
    }
   ],
   "source": [
    "user_string = input(\"Enter a string: \")\n",
    "user_string = user_string[::-1]\n",
    "user_string"
   ]
  },
  {
   "cell_type": "markdown",
   "id": "382e18bb-02a2-451f-86fd-e25338257e89",
   "metadata": {},
   "source": [
    "###  5. Write a Python program that accepts a string from user. Your program should create a new string by shifting one position to left. For example if the user enters the string 'examination 2021' then new string would be 'xamination 2021e' \n"
   ]
  },
  {
   "cell_type": "code",
   "execution_count": 13,
   "id": "09c22504-a51d-4fc0-b987-83f0558a7d2b",
   "metadata": {},
   "outputs": [
    {
     "name": "stdin",
     "output_type": "stream",
     "text": [
      "Enter a string:  examination 2021\n"
     ]
    },
    {
     "data": {
      "text/plain": [
       "'xamination 2021e'"
      ]
     },
     "execution_count": 13,
     "metadata": {},
     "output_type": "execute_result"
    }
   ],
   "source": [
    "user_string = input(\"Enter a string: \")\n",
    "user_string = user_string[1:] + user_string[0]\n",
    "user_string"
   ]
  },
  {
   "cell_type": "markdown",
   "id": "adbd7a27-3aad-4f86-a93f-5ec4dc570634",
   "metadata": {},
   "source": [
    "### 6. Write a program that asks the user to input his name and print its initials. Assuming that the user always types first name, middle name and last name and does not include any unnecessary spaces. For example, if the user enters Ajay Kumar Garg the program should display A. K. G. Note:Don't use split() method "
   ]
  },
  {
   "cell_type": "code",
   "execution_count": 1,
   "id": "cdaf510c-c9b5-463a-8487-aff90a2bbcb0",
   "metadata": {},
   "outputs": [
    {
     "name": "stdin",
     "output_type": "stream",
     "text": [
      "Enter your full name (First Name Middle Name Last Name):  Ajay Kumar Garg\n"
     ]
    },
    {
     "name": "stdout",
     "output_type": "stream",
     "text": [
      "A. K. G.\n"
     ]
    }
   ],
   "source": [
    "\n",
    "full_name = input(\"Enter your full name (First Name Middle Name Last Name): \")\n",
    "\n",
    "first_name_initial = full_name[0] \n",
    "middle_name_initial = full_name[full_name.find(' ') + 1]  \n",
    "last_name_initial = full_name[full_name.rfind(' ') + 1]  \n",
    "\n",
    "print(f\"{first_name_initial}. {middle_name_initial}. {last_name_initial}.\")\n"
   ]
  },
  {
   "cell_type": "markdown",
   "id": "fb266d6b-d802-42ca-a178-4ffea75abf5f",
   "metadata": {},
   "source": [
    "### 7. A palindrome is a string that reads the same backward as forward. For example, the words dad, madam and radar are all palindromes. Write a programs that determines whether the string is a palindrome. Note: do not use reverse() method "
   ]
  },
  {
   "cell_type": "code",
   "execution_count": 41,
   "id": "098e2c62-822f-4dc2-9f96-56cfd0fd95dd",
   "metadata": {},
   "outputs": [
    {
     "name": "stdin",
     "output_type": "stream",
     "text": [
      "Enter a string:  madam\n"
     ]
    },
    {
     "name": "stdout",
     "output_type": "stream",
     "text": [
      "String is a palindrome.\n"
     ]
    }
   ],
   "source": [
    "user_string = input(\"Enter a string: \")\n",
    "if user_string == user_string[::-1]:\n",
    "    print(\"String is a palindrome.\")\n",
    "else:\n",
    "    print(\"String is not a palindrome.\")"
   ]
  },
  {
   "cell_type": "markdown",
   "id": "0313cb98-59c1-48b5-a188-4f8356d1eec4",
   "metadata": {},
   "source": [
    "### 8. Write a program that display following output: \n",
    " -SHIFT \n",
    " -HIFTS \n",
    " -IFTSH \n",
    " -FTSHI \n",
    " -TSHIF \n",
    " -SHIFT \n"
   ]
  },
  {
   "cell_type": "code",
   "execution_count": 36,
   "id": "e2a72b58-09b3-40fd-bb83-639b15daff08",
   "metadata": {},
   "outputs": [
    {
     "name": "stdout",
     "output_type": "stream",
     "text": [
      "SHIFT\n",
      "HIFTS\n",
      "IFTSH\n",
      "FTSHI\n",
      "TSHIF\n",
      "SHIFT\n"
     ]
    }
   ],
   "source": [
    "string = \"SHIFT\"\n",
    "print(string[0:])\n",
    "print(string[1:]+string[0])\n",
    "print(string[2:]+string[0:2])\n",
    "print(string[3:]+string[0:3])\n",
    "print(string[4:]+string[0:4])\n",
    "print(string[0:])"
   ]
  },
  {
   "cell_type": "markdown",
   "id": "3cfbfe5d-311c-4507-b655-1146269a2238",
   "metadata": {},
   "source": [
    "### 9. Write a program in python that accepts a string to setup a passwords. Your entered password must meet the following requirements:The password must be at least eight characters long. /It must contain at least one uppercase letter. /It must contain at least one lowercase letter. /It must contain at least one numeric digit. /Your program should should perform this validation.  "
   ]
  },
  {
   "cell_type": "code",
   "execution_count": 15,
   "id": "3f4c6420-fedf-4301-b60a-5a8a5bbd8a06",
   "metadata": {},
   "outputs": [
    {
     "name": "stdin",
     "output_type": "stream",
     "text": [
      "Enter a password: Ms123456\n"
     ]
    },
    {
     "name": "stdout",
     "output_type": "stream",
     "text": [
      "Your password is valid: Ms123456\n"
     ]
    }
   ],
   "source": [
    "password=input(\"Enter a password:\")\n",
    "if len(password) < 8:\n",
    "    print(\"Password must contain at least 8 characters!\")\n",
    "\n",
    "for char in password:\n",
    "    if  (char.isupper()):\n",
    "        break\n",
    "else:\n",
    "    print(\"Password must contain at least 1 uppercase character!\")\n",
    "\n",
    "for char in password:\n",
    "    if  (char.islower()):\n",
    "        break\n",
    "else:\n",
    "    print(\"Password must contain at least 1 lowercase character!\")\n",
    "\n",
    "for char in password:\n",
    "    if  (char.isdigit()):\n",
    "        break\n",
    "else:\n",
    "    print(\"Password must contain at least 1 digit character!\")\n",
    "\n",
    "print(f\"Your password is valid: {password}\")    \n",
    "    "
   ]
  },
  {
   "cell_type": "code",
   "execution_count": null,
   "id": "333140fd-4311-4686-ae3b-3d996a3f2dd3",
   "metadata": {},
   "outputs": [],
   "source": []
  }
 ],
 "metadata": {
  "kernelspec": {
   "display_name": "Python 3 (ipykernel)",
   "language": "python",
   "name": "python3"
  },
  "language_info": {
   "codemirror_mode": {
    "name": "ipython",
    "version": 3
   },
   "file_extension": ".py",
   "mimetype": "text/x-python",
   "name": "python",
   "nbconvert_exporter": "python",
   "pygments_lexer": "ipython3",
   "version": "3.12.7"
  }
 },
 "nbformat": 4,
 "nbformat_minor": 5
}
