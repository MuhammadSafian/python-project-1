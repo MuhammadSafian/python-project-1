{
 "cells": [
  {
   "cell_type": "markdown",
   "id": "7fb094ce",
   "metadata": {},
   "source": [
    "# Discounts and Pricing"
   ]
  },
  {
   "cell_type": "markdown",
   "id": "608230c0",
   "metadata": {},
   "source": [
    "### 1.\tCheck Discount Eligibility"
   ]
  },
  {
   "cell_type": "markdown",
   "id": "52055bf8",
   "metadata": {},
   "source": [
    "### Write a program to check if a customer is eligible for a discount. If the total purchase is more than $100, apply a 10% discount and display the final price. Otherwise, display the total price as it is."
   ]
  },
  {
   "cell_type": "code",
   "execution_count": 10,
   "id": "da0f9909",
   "metadata": {},
   "outputs": [
    {
     "name": "stdout",
     "output_type": "stream",
     "text": [
      "Enter item_1 price:10000\n",
      "Enter item_2 price:50000\n",
      "Enter item_3 price:2000\n",
      "Enter item_4 price:1000\n",
      "Enter item_5 price:3000\n"
     ]
    }
   ],
   "source": [
    "item_1=float(input(\"Enter item_1 price:\"))\n",
    "item_2=float(input(\"Enter item_2 price:\"))\n",
    "item_3=float(input(\"Enter item_3 price:\"))\n",
    "item_4=float(input(\"Enter item_4 price:\"))\n",
    "item_5=float(input(\"Enter item_5 price:\"))\n",
    "total_purchase=item_1+item_2+item_3+item_4+item_5"
   ]
  },
  {
   "cell_type": "code",
   "execution_count": 9,
   "id": "e51404fa",
   "metadata": {},
   "outputs": [],
   "source": [
    "dollar=100*280"
   ]
  },
  {
   "cell_type": "code",
   "execution_count": 12,
   "id": "2b5dee8e",
   "metadata": {},
   "outputs": [
    {
     "name": "stdout",
     "output_type": "stream",
     "text": [
      "Total_purchase_bill: 66000.0\n",
      "Discount applied: 10%\n",
      "Payable_bill: 59400.0\n"
     ]
    }
   ],
   "source": [
    "if total_purchase >= dollar:\n",
    "    pay=total_purchase*0.10\n",
    "    print(f\"Total_purchase_bill: {total_purchase}\")\n",
    "    print(\"Discount applied: 10%\")\n",
    "    print(f\"Payable_bill: {total_purchase-pay}\")\n",
    "else:\n",
    "    print(f\"Payable_bill: {total_purchase}\")"
   ]
  },
  {
   "cell_type": "markdown",
   "id": "2fb64c50",
   "metadata": {},
   "source": [
    "### 2.\tCalculate Bulk Discount"
   ]
  },
  {
   "cell_type": "markdown",
   "id": "dfdbf3a6",
   "metadata": {},
   "source": [
    "### If a customer buys more than 5 items, apply a 15% discount on the total price. Otherwise, no discount is applied. Display the total price."
   ]
  },
  {
   "cell_type": "code",
   "execution_count": 20,
   "id": "58971a40",
   "metadata": {},
   "outputs": [
    {
     "name": "stdout",
     "output_type": "stream",
     "text": [
      "Enter buy no of items:3\n"
     ]
    }
   ],
   "source": [
    "items=float(input(\"Enter buy no of items:\"))"
   ]
  },
  {
   "cell_type": "code",
   "execution_count": 15,
   "id": "a69f9fcb",
   "metadata": {},
   "outputs": [
    {
     "name": "stdout",
     "output_type": "stream",
     "text": [
      "Enter total price:15000\n"
     ]
    }
   ],
   "source": [
    "total_price=float(input(\"Enter total price:\"))"
   ]
  },
  {
   "cell_type": "code",
   "execution_count": 21,
   "id": "190b64cb",
   "metadata": {},
   "outputs": [
    {
     "name": "stdout",
     "output_type": "stream",
     "text": [
      "Payable_bill: 15000.0\n"
     ]
    }
   ],
   "source": [
    "if items > 5:\n",
    "    discount=total_price*0.15\n",
    "    print(f\"Total_purchase_bill: {total_price}\")\n",
    "    print(\"Discount applied: 15%\")\n",
    "    print(f\"Payable_bill: {total_price-discount}\")\n",
    "else:\n",
    "    print(f\"Payable_bill: {total_price}\")"
   ]
  },
  {
   "cell_type": "markdown",
   "id": "23ef8315",
   "metadata": {},
   "source": [
    "### 3.\tMembership Discount"
   ]
  },
  {
   "cell_type": "markdown",
   "id": "49be130b",
   "metadata": {},
   "source": [
    "### Check if the customer is a member (is_member = True). Members get a 20% discount; non-members get a 5% discount. Calculate and print the discounted price."
   ]
  },
  {
   "cell_type": "code",
   "execution_count": 27,
   "id": "88768dc3",
   "metadata": {},
   "outputs": [],
   "source": [
    "price=1000\n",
    "is_member=True"
   ]
  },
  {
   "cell_type": "code",
   "execution_count": 28,
   "id": "9e95f9c0",
   "metadata": {},
   "outputs": [
    {
     "name": "stdout",
     "output_type": "stream",
     "text": [
      "Total_price: 1000\n",
      "Discount applied: 20%\n",
      "Payable_price: 800.0\n"
     ]
    }
   ],
   "source": [
    "if is_member:\n",
    "    discount=price*0.20\n",
    "    print(f\"Total_price: {price}\")\n",
    "    print(\"Discount applied: 20%\")\n",
    "    print(f\"Payable_price: {price-discount}\")\n",
    "else:\n",
    "    discount=price*0.05\n",
    "    print(f\"Total_price: {price}\")\n",
    "    print(\"Discount applied: 5%\")\n",
    "    print(f\"Payable_price: {price-discount}\")\n",
    "    "
   ]
  },
  {
   "cell_type": "markdown",
   "id": "b12a1f10",
   "metadata": {},
   "source": [
    "### 4.\tSeasonal Sale"
   ]
  },
  {
   "cell_type": "markdown",
   "id": "527630a5",
   "metadata": {},
   "source": [
    "### If today is a holiday (is_holiday = True), apply a 25% discount; otherwise, apply a 10% discount. Calculate the price after discount."
   ]
  },
  {
   "cell_type": "code",
   "execution_count": 29,
   "id": "5caa2ba5",
   "metadata": {},
   "outputs": [],
   "source": [
    "price=2000\n",
    "is_holiday=True"
   ]
  },
  {
   "cell_type": "code",
   "execution_count": 30,
   "id": "231bd06d",
   "metadata": {},
   "outputs": [
    {
     "name": "stdout",
     "output_type": "stream",
     "text": [
      "Total_price: 2000\n",
      "Discount applied: 25%\n",
      "Payable_price: 1500.0\n"
     ]
    }
   ],
   "source": [
    "if is_holiday:\n",
    "    discount=price*0.25\n",
    "    print(f\"Total_price: {price}\")\n",
    "    print(\"Discount applied: 25%\")\n",
    "    print(f\"Payable_price: {price-discount}\")\n",
    "else:\n",
    "    discount=price*0.10\n",
    "    print(f\"Total_price: {price}\")\n",
    "    print(\"Discount applied: 10%\")\n",
    "    print(f\"Payable_price: {price-discount}\")\n",
    "    "
   ]
  },
  {
   "cell_type": "markdown",
   "id": "8d4f3bf5",
   "metadata": {},
   "source": [
    "### 5.\tBuy-One-Get-One-Free"
   ]
  },
  {
   "cell_type": "markdown",
   "id": "cd958f06",
   "metadata": {},
   "source": [
    "### If a customer buys an even number of items, they get half of them for free. Otherwise, they pay for all. Calculate the number of items the customer has to pay for."
   ]
  },
  {
   "cell_type": "code",
   "execution_count": 35,
   "id": "30be3e0a",
   "metadata": {},
   "outputs": [
    {
     "name": "stdout",
     "output_type": "stream",
     "text": [
      "Enter payment:5000\n"
     ]
    }
   ],
   "source": [
    "pay=float(input(\"Enter payment:\"))"
   ]
  },
  {
   "cell_type": "code",
   "execution_count": 40,
   "id": "aa572498",
   "metadata": {},
   "outputs": [
    {
     "name": "stdout",
     "output_type": "stream",
     "text": [
      "Enter no of items:10\n"
     ]
    }
   ],
   "source": [
    "items=int(input(\"Enter no of items:\"))"
   ]
  },
  {
   "cell_type": "code",
   "execution_count": 41,
   "id": "91296df1",
   "metadata": {},
   "outputs": [
    {
     "name": "stdout",
     "output_type": "stream",
     "text": [
      "Total_Bill: 5000.0\n",
      "Discount applied: 50%\n",
      "Payable_Bill: 2500.0\n"
     ]
    }
   ],
   "source": [
    "if items%2 == 0:\n",
    "    discount=pay*0.50\n",
    "    print(f\"Total_Bill: {pay}\")\n",
    "    print(\"Discount applied: 50%\")\n",
    "    print(f\"Payable_Bill: {pay-discount}\")\n",
    "else:\n",
    "    print(f\"Total_Bill: {pay}\")\n",
    "    "
   ]
  },
  {
   "cell_type": "markdown",
   "id": "c234c293",
   "metadata": {},
   "source": [
    "# Tax Calculations"
   ]
  },
  {
   "cell_type": "markdown",
   "id": "dee513be",
   "metadata": {},
   "source": [
    "### 6.\tSales Tax"
   ]
  },
  {
   "cell_type": "markdown",
   "id": "17acd8fe",
   "metadata": {},
   "source": [
    "### If the price of an item is greater than $500, apply a luxury tax of 15%. Otherwise, apply a standard tax of 8%. Display the total price after tax."
   ]
  },
  {
   "cell_type": "code",
   "execution_count": 42,
   "id": "bf868ffa",
   "metadata": {},
   "outputs": [],
   "source": [
    "dollar=500*280"
   ]
  },
  {
   "cell_type": "code",
   "execution_count": 47,
   "id": "b260fd46",
   "metadata": {},
   "outputs": [
    {
     "name": "stdout",
     "output_type": "stream",
     "text": [
      "Enter price:1000000\n"
     ]
    }
   ],
   "source": [
    "price=float(input(\"Enter price:\"))"
   ]
  },
  {
   "cell_type": "code",
   "execution_count": 55,
   "id": "65176e2c",
   "metadata": {},
   "outputs": [
    {
     "name": "stdout",
     "output_type": "stream",
     "text": [
      "Total_price: 1000000.0\n",
      "tax applied: 8%\n",
      "After tax Payable_price: 920000.0\n"
     ]
    }
   ],
   "source": [
    "if price > dollar:\n",
    "    tax=price*0.15\n",
    "    print(f\"Total_price: {price}\")\n",
    "    print(\"luxury tax applied: 15%\")\n",
    "    print(f\"After tax Payable_price: {price-tax}\")\n",
    "else:\n",
    "    tax=price*0.08\n",
    "    print(f\"Total_price: {price}\")\n",
    "    print(\"tax applied: 8%\")\n",
    "    print(f\"After tax Payable_price: {price-tax}\")"
   ]
  },
  {
   "cell_type": "markdown",
   "id": "71536397",
   "metadata": {},
   "source": [
    "### 7.\tIncome Tax"
   ]
  },
  {
   "cell_type": "markdown",
   "id": "9ee4f3a8",
   "metadata": {},
   "source": [
    "### If a person's annual income is above $50,000, they pay 20% tax. Otherwise, they pay 10%. Calculate and display the tax amount."
   ]
  },
  {
   "cell_type": "code",
   "execution_count": 50,
   "id": "86293880",
   "metadata": {},
   "outputs": [
    {
     "name": "stdout",
     "output_type": "stream",
     "text": [
      "Enter annual income:10000000\n"
     ]
    }
   ],
   "source": [
    "income=float(input(\"Enter annual income:\"))"
   ]
  },
  {
   "cell_type": "code",
   "execution_count": 51,
   "id": "f8c550dd",
   "metadata": {},
   "outputs": [],
   "source": [
    "dollar=50000*280"
   ]
  },
  {
   "cell_type": "code",
   "execution_count": 54,
   "id": "6b116d83",
   "metadata": {},
   "outputs": [
    {
     "name": "stdout",
     "output_type": "stream",
     "text": [
      "Annual_Income: 100000.0\n",
      "tax applied: 10%\n",
      "After pay tax: 90000.0\n"
     ]
    }
   ],
   "source": [
    "if income > dollar:\n",
    "    tax=income*0.20\n",
    "    print(f\"Annual_Income: {income}\")\n",
    "    print(\"tax applied: 20%\")\n",
    "    print(f\"After pay tax: {income-tax}\")\n",
    "else:\n",
    "    tax=income*0.10\n",
    "    print(f\"Annual_Income: {income}\")\n",
    "    print(\"tax applied: 10%\")\n",
    "    print(f\"After pay tax: {income-tax}\")\n",
    "  "
   ]
  },
  {
   "cell_type": "markdown",
   "id": "d063cdcc",
   "metadata": {},
   "source": [
    "### 8.\tTax Bracket"
   ]
  },
  {
   "cell_type": "markdown",
   "id": "249ca6e1",
   "metadata": {},
   "source": [
    "### Write a program to categorize a person into tax brackets:\n",
    "\tIncome < $30,000: \"Low Tax\"      \n",
    "\t$30,000 ≤ Income < $100,000: \"Medium Tax\"    \n",
    "\tIncome ≥ $100,000: \"High Tax\"\n"
   ]
  },
  {
   "cell_type": "code",
   "execution_count": 61,
   "id": "ba7c5c67",
   "metadata": {},
   "outputs": [
    {
     "name": "stdout",
     "output_type": "stream",
     "text": [
      "Enter monthly income:500000\n"
     ]
    }
   ],
   "source": [
    "income=float(input(\"Enter monthly income:\"))"
   ]
  },
  {
   "cell_type": "code",
   "execution_count": 69,
   "id": "5b89ab23",
   "metadata": {},
   "outputs": [
    {
     "name": "stdout",
     "output_type": "stream",
     "text": [
      "Monthly_income: 500000.0\n",
      "tax applied: 10%\n",
      "After tax Monthly_income: 450000.0\n"
     ]
    }
   ],
   "source": [
    "if income < 30000:\n",
    "    tax=income*0.05\n",
    "    print(f\"Monthly_income: {income}\")\n",
    "    print(\"tax applied: 5%\")\n",
    "    print(f\"After tax Monthly_income: {income-tax}\")\n",
    "else:\n",
    "    pass\n",
    "\n",
    "if 30000 <= income < 1000000:\n",
    "    tax=income*0.10\n",
    "    print(f\"Monthly_income: {income}\")\n",
    "    print(\"tax applied: 10%\")\n",
    "    print(f\"After tax Monthly_income: {income-tax}\")\n",
    "else:\n",
    "    pass\n",
    "\n",
    "if income >= 1000000:\n",
    "    tax=income*0.20\n",
    "    print(f\"Monthly_income: {income}\")\n",
    "    print(\"tax applied: 20%\")\n",
    "    print(f\"After tax Monthly_income: {income-tax}\")\n",
    "else:\n",
    "    pass"
   ]
  },
  {
   "cell_type": "markdown",
   "id": "b042c285",
   "metadata": {},
   "source": [
    "### 9.\tVAT Calculation"
   ]
  },
  {
   "cell_type": "markdown",
   "id": "254819b5",
   "metadata": {},
   "source": [
    "### If the item is marked as essential (is_essential = True), apply a VAT of 5%. Otherwise, apply a VAT of 12%. Display the final price."
   ]
  },
  {
   "cell_type": "code",
   "execution_count": 68,
   "id": "add8e476",
   "metadata": {},
   "outputs": [
    {
     "name": "stdout",
     "output_type": "stream",
     "text": [
      "Enter total price:10000\n"
     ]
    }
   ],
   "source": [
    "price=float(input(\"Enter total price:\"))"
   ]
  },
  {
   "cell_type": "code",
   "execution_count": 67,
   "id": "38ac6442",
   "metadata": {},
   "outputs": [],
   "source": [
    "is_essential=True"
   ]
  },
  {
   "cell_type": "code",
   "execution_count": 74,
   "id": "8464024b",
   "metadata": {},
   "outputs": [
    {
     "name": "stdout",
     "output_type": "stream",
     "text": [
      "Total_price: 20000.0\n",
      "VAT applied: 5%\n",
      "Final_Price: 21000.0\n"
     ]
    }
   ],
   "source": [
    "if is_essential:\n",
    "    vat=price*0.05\n",
    "    print(f\"Total_price: {price}\")\n",
    "    print(\"VAT applied: 5%\")\n",
    "    print(f\"Final_Price: {price+vat}\")\n",
    "else:\n",
    "    vat=price*0.12\n",
    "    print(f\"Total_price: {price}\")\n",
    "    print(\"VAT applied: 12%\")\n",
    "    print(f\"Final_Price: {price+vat}\")\n",
    "    "
   ]
  },
  {
   "cell_type": "markdown",
   "id": "346d494c",
   "metadata": {},
   "source": [
    "### 10.\tTax-Free Day"
   ]
  },
  {
   "cell_type": "markdown",
   "id": "04207490",
   "metadata": {},
   "source": [
    "### If today is a tax-free day (tax_free = True), display the original price. Otherwise, add a 7% tax."
   ]
  },
  {
   "cell_type": "code",
   "execution_count": 72,
   "id": "9ffd7e4c",
   "metadata": {},
   "outputs": [
    {
     "name": "stdout",
     "output_type": "stream",
     "text": [
      "Enter total price:20000\n"
     ]
    }
   ],
   "source": [
    "price=float(input(\"Enter total price:\"))"
   ]
  },
  {
   "cell_type": "code",
   "execution_count": 80,
   "id": "9233d69e",
   "metadata": {},
   "outputs": [],
   "source": [
    "tax_free=True"
   ]
  },
  {
   "cell_type": "code",
   "execution_count": 81,
   "id": "c4e96eb5",
   "metadata": {},
   "outputs": [
    {
     "name": "stdout",
     "output_type": "stream",
     "text": [
      "orignial_price: 20000.0\n"
     ]
    }
   ],
   "source": [
    "if tax_free:\n",
    "    print(f\"orignial_price: {price}\")\n",
    "else:\n",
    "    tax=price*0.07\n",
    "    print(f\"orignial_price: {price}\")\n",
    "    print(\"Tax applied: 7%\")\n",
    "    print(f\"Ater tax orignal_price: {price+tax}\")"
   ]
  },
  {
   "cell_type": "markdown",
   "id": "c36ad6bc",
   "metadata": {},
   "source": [
    "# Shopping and Billing"
   ]
  },
  {
   "cell_type": "markdown",
   "id": "33061807",
   "metadata": {},
   "source": [
    "### 11.\tFree Shipping"
   ]
  },
  {
   "cell_type": "markdown",
   "id": "08e65f0a",
   "metadata": {},
   "source": [
    "### If the total purchase amount is more than 50 dollars, offer free shipping; otherwise, charge 5 dollars for shipping. Display the total amount including shipping."
   ]
  },
  {
   "cell_type": "code",
   "execution_count": 3,
   "id": "d6303838",
   "metadata": {},
   "outputs": [],
   "source": [
    "dollars=50*280"
   ]
  },
  {
   "cell_type": "code",
   "execution_count": 8,
   "id": "9139bff8",
   "metadata": {},
   "outputs": [
    {
     "name": "stdout",
     "output_type": "stream",
     "text": [
      "Enter total purchase amount:1000\n"
     ]
    }
   ],
   "source": [
    "pur_amount=float(input(\"Enter total purchase amount:\"))"
   ]
  },
  {
   "cell_type": "code",
   "execution_count": 10,
   "id": "f592b0c4",
   "metadata": {},
   "outputs": [
    {
     "name": "stdout",
     "output_type": "stream",
     "text": [
      "Your purchase amount is 1000.0\n",
      "Your shipping amount is 1400\n",
      "Your payable bill is 2400.0\n"
     ]
    }
   ],
   "source": [
    "if pur_amount > dollars:\n",
    "    print(\"Mall offers you free shipping!\")\n",
    "    print(f\"Your payable bill is {pur_amount}\")\n",
    "else:\n",
    "    dollar=5*280\n",
    "    print(f\"\"\"Your purchase amount is {pur_amount}\n",
    "Your shipping amount is {dollar}\n",
    "Your payable bill is {pur_amount + dollar}\"\"\")"
   ]
  },
  {
   "cell_type": "markdown",
   "id": "e2e2face",
   "metadata": {},
   "source": [
    "### 12.\tDiscount Code"
   ]
  },
  {
   "cell_type": "markdown",
   "id": "b78cf267",
   "metadata": {},
   "source": [
    "### If a customer enters the correct discount code (DISCOUNT10), apply a 10% discount. Otherwise, charge the full amount."
   ]
  },
  {
   "cell_type": "code",
   "execution_count": 18,
   "id": "cbd4bdb8",
   "metadata": {},
   "outputs": [
    {
     "name": "stdout",
     "output_type": "stream",
     "text": [
      "Enter total amount:10000\n",
      "Enter discount code:discount10\n"
     ]
    }
   ],
   "source": [
    "total_amount=float(input(\"Enter total amount:\"))\n",
    "dis_code=input(\"Enter discount code:\")"
   ]
  },
  {
   "cell_type": "code",
   "execution_count": 19,
   "id": "fba41ee2",
   "metadata": {},
   "outputs": [
    {
     "name": "stdout",
     "output_type": "stream",
     "text": [
      "You get 10% discount!\n",
      "Your Total amount is 10000.0\n",
      "After discount your bill is 9000.0\n"
     ]
    }
   ],
   "source": [
    "if dis_code.upper() == \"DISCOUNT10\":\n",
    "    discount=total_amount * 0.10\n",
    "    print(\"You get 10% discount!\")\n",
    "    print(f\"Your Total amount is {total_amount}\")\n",
    "    print(f\"After discount your bill is {total_amount - discount}\")\n",
    "else:\n",
    "    print(\"You donot get any discount!\")\n",
    "    print(f\"Your payable bill is {total_amount} \")"
   ]
  },
  {
   "cell_type": "markdown",
   "id": "170eb83b",
   "metadata": {},
   "source": [
    "### 13.\tTiered Discounts"
   ]
  },
  {
   "cell_type": "markdown",
   "id": "4334f8dc",
   "metadata": {},
   "source": [
    "### Apply discounts based on the total price:\n",
    "\t$0 – $50: No discount.\n",
    "\t$50 – $100: 10% discount.\n",
    "\tOver $100: 20% discount.\n"
   ]
  },
  {
   "cell_type": "code",
   "execution_count": 25,
   "id": "1de912a2",
   "metadata": {},
   "outputs": [
    {
     "name": "stdout",
     "output_type": "stream",
     "text": [
      "Enter total amount of items:15000\n"
     ]
    }
   ],
   "source": [
    "amount=float(input(\"Enter total amount of items:\"))"
   ]
  },
  {
   "cell_type": "code",
   "execution_count": 26,
   "id": "18822d43",
   "metadata": {},
   "outputs": [
    {
     "name": "stdout",
     "output_type": "stream",
     "text": [
      "Your Actual amount 15000.0\n",
      "Applied 10% discount\n",
      "Payable bill 13500.0\n"
     ]
    }
   ],
   "source": [
    "if amount > (100*280):\n",
    "    discount=amount*0.20\n",
    "    print(f\"Your Actual amount {amount}\")\n",
    "    print(\"Applied 20% discount\")\n",
    "    print(f\"Payable bill {amount - discount}\")\n",
    "else:\n",
    "    pass\n",
    "\n",
    "if (50*280) < amount < (100*280):\n",
    "    discount=amount*0.10\n",
    "    print(f\"Your Actual amount {amount}\")\n",
    "    print(\"Applied 10% discount\")\n",
    "    print(f\"Payable bill {amount - discount}\")\n",
    "else:\n",
    "    pass\n",
    "\n",
    "if (0*280 ) < amount < (50*280):\n",
    "    print(f\"Payable bill {amount}\")\n",
    "else:\n",
    "    pass\n"
   ]
  },
  {
   "cell_type": "markdown",
   "id": "5c87b611",
   "metadata": {},
   "source": [
    "### 14.\tMinimum Purchase Requirement"
   ]
  },
  {
   "cell_type": "markdown",
   "id": "51822a17",
   "metadata": {},
   "source": [
    "### If the total amount is less than 20 dollars, display a message: \"Minimum purchase of 20 dollars is required.\" Otherwise, display the total amount."
   ]
  },
  {
   "cell_type": "code",
   "execution_count": 33,
   "id": "9d9824ca",
   "metadata": {},
   "outputs": [
    {
     "name": "stdout",
     "output_type": "stream",
     "text": [
      "Enter total item items:10000\n"
     ]
    }
   ],
   "source": [
    "purchase=float(input(\"Enter total item items:\"))"
   ]
  },
  {
   "cell_type": "code",
   "execution_count": 34,
   "id": "729bcbfa",
   "metadata": {},
   "outputs": [
    {
     "name": "stdout",
     "output_type": "stream",
     "text": [
      "Your Purchase Bill 10000.0\n"
     ]
    }
   ],
   "source": [
    "if purchase < (20*280):\n",
    "    print(\"Minimum purchase of 20 dollars is required.\")\n",
    "else:\n",
    "    print(f\"Your Purchase Bill {purchase}\")"
   ]
  },
  {
   "cell_type": "markdown",
   "id": "8195111e",
   "metadata": {},
   "source": [
    "### 15.\tLoyalty Points"
   ]
  },
  {
   "cell_type": "markdown",
   "id": "acbe6e3b",
   "metadata": {},
   "source": [
    "### If a customer is a loyal member (is_loyal = True), they earn double loyalty points for their purchase. Otherwise, they earn standard points."
   ]
  },
  {
   "cell_type": "code",
   "execution_count": 35,
   "id": "9ef96b3e",
   "metadata": {},
   "outputs": [],
   "source": [
    "is_loyal=True"
   ]
  },
  {
   "cell_type": "code",
   "execution_count": 36,
   "id": "ca08e189",
   "metadata": {},
   "outputs": [
    {
     "name": "stdout",
     "output_type": "stream",
     "text": [
      "You got double loyalty points!\n"
     ]
    }
   ],
   "source": [
    "if is_loyal:\n",
    "    print(\"You got double loyalty points!\")\n",
    "else:\n",
    "    print(\"You got standard loyalty points!\")"
   ]
  },
  {
   "cell_type": "markdown",
   "id": "b5ef0c03",
   "metadata": {},
   "source": [
    "# Travel and Tickets\n"
   ]
  },
  {
   "cell_type": "markdown",
   "id": "140c5771",
   "metadata": {},
   "source": [
    "### 16.\tTravel Discount"
   ]
  },
  {
   "cell_type": "markdown",
   "id": "54241efd",
   "metadata": {},
   "source": [
    "### If a person is traveling more than 500 miles, offer a 20% discount on ticket price. Otherwise, charge the full amount."
   ]
  },
  {
   "cell_type": "code",
   "execution_count": 3,
   "id": "22a9a0ac",
   "metadata": {},
   "outputs": [
    {
     "name": "stdin",
     "output_type": "stream",
     "text": [
      "Total distance coversd in miles: 200\n"
     ]
    }
   ],
   "source": [
    "distance=float(input(\"Total distance coversd in miles:\"))"
   ]
  },
  {
   "cell_type": "code",
   "execution_count": 1,
   "id": "80c6ed4a",
   "metadata": {},
   "outputs": [],
   "source": [
    "tic_price=float(150)"
   ]
  },
  {
   "cell_type": "code",
   "execution_count": 5,
   "id": "5307a337-f9f4-406d-b68d-2f3428cdca55",
   "metadata": {},
   "outputs": [
    {
     "name": "stdout",
     "output_type": "stream",
     "text": [
      "Actual Ticket_Price 150.0\n",
      "Discount_Applied 20%\n",
      "Pay Ticket_Price 120.0\n"
     ]
    }
   ],
   "source": [
    "if distance == 200:\n",
    "    discount=tic_price*0.20\n",
    "    print(f\"Actual Ticket_Price {tic_price}\")\n",
    "    print(\"Discount_Applied 20%\")\n",
    "    print(f\"Pay Ticket_Price {tic_price - discount}\")\n",
    "else:\n",
    "    print(f\"Ticket_Price {tic_price}\")    "
   ]
  },
  {
   "cell_type": "markdown",
   "id": "f5fd2a78-3c21-4f88-9963-cf8e2352af61",
   "metadata": {},
   "source": [
    "### 17.\tChild or Senior Discount"
   ]
  },
  {
   "cell_type": "markdown",
   "id": "55467c46-5d1d-4d8d-aed1-430a980041b3",
   "metadata": {},
   "source": [
    "### If a passenger is under 12 or over 60 years old, apply a 15% discount on the ticket price. Otherwise, charge the full price."
   ]
  },
  {
   "cell_type": "code",
   "execution_count": 9,
   "id": "cbabb441-b5bb-470c-874a-257573fc1cb0",
   "metadata": {},
   "outputs": [
    {
     "name": "stdin",
     "output_type": "stream",
     "text": [
      "Enter your age 11\n"
     ]
    }
   ],
   "source": [
    "pass_age=float(input(\"Enter your age\"))"
   ]
  },
  {
   "cell_type": "code",
   "execution_count": 7,
   "id": "028ada35-c187-4e7a-85a3-4f7a7b2c9cc7",
   "metadata": {},
   "outputs": [],
   "source": [
    "tic_price=float(150)"
   ]
  },
  {
   "cell_type": "code",
   "execution_count": 12,
   "id": "14428346-83d9-44b2-8e90-b2998f9a4cc8",
   "metadata": {},
   "outputs": [
    {
     "name": "stdout",
     "output_type": "stream",
     "text": [
      "Actual Ticket_Price 150.0\n",
      "Discount_Applied 15%\n",
      "Pay Ticket_Price 127.5\n"
     ]
    }
   ],
   "source": [
    "if pass_age < 12 or pass_age > 60:\n",
    "    discount=tic_price*0.15\n",
    "    print(f\"Actual Ticket_Price {tic_price}\")\n",
    "    print(\"Discount_Applied 15%\")\n",
    "    print(f\"Pay Ticket_Price {tic_price - discount}\")\n",
    "else:\n",
    "    print(f\"Ticket_Price {tic_price}\") "
   ]
  },
  {
   "cell_type": "markdown",
   "id": "5209ee60-e018-42a3-bc07-5a505bc5cc83",
   "metadata": {},
   "source": [
    "### 18.\tTicket Type Pricing"
   ]
  },
  {
   "cell_type": "markdown",
   "id": "b8a744d4-e943-43ac-ab13-54f0636345ca",
   "metadata": {},
   "source": [
    "### If the ticket is for a weekend (is_weekend = True), add a 10% surcharge. Otherwise, charge the standard price."
   ]
  },
  {
   "cell_type": "code",
   "execution_count": 13,
   "id": "23bee695-ba7a-4a1f-816e-e17110dbeab5",
   "metadata": {},
   "outputs": [],
   "source": [
    "is_weekend=True"
   ]
  },
  {
   "cell_type": "code",
   "execution_count": 14,
   "id": "060f00e9-2feb-46cb-b39f-31c64d546120",
   "metadata": {},
   "outputs": [],
   "source": [
    "tic_price=float(200)"
   ]
  },
  {
   "cell_type": "code",
   "execution_count": 15,
   "id": "b647e4cc-f604-4dbc-a44c-9837719e0bd8",
   "metadata": {},
   "outputs": [
    {
     "name": "stdout",
     "output_type": "stream",
     "text": [
      "Actual Ticket_Price 200.0\n",
      "Surcharges_Applied 10%\n",
      "Pay Ticket_Price 220.0\n"
     ]
    }
   ],
   "source": [
    "if is_weekend:\n",
    "    surcharges=tic_price*0.10\n",
    "    print(f\"Actual Ticket_Price {tic_price}\")\n",
    "    print(\"Surcharges_Applied 10%\")\n",
    "    print(f\"Pay Ticket_Price {tic_price + surcharges}\")\n",
    "else:\n",
    "    print(f\"Actual Ticket_Price {tic_price}\")"
   ]
  },
  {
   "cell_type": "markdown",
   "id": "4b532324-3984-4b3f-b77d-710666fae2b6",
   "metadata": {},
   "source": [
    "### 19.\tBaggage Fee"
   ]
  },
  {
   "cell_type": "markdown",
   "id": "ec32e7a9-e2ee-43b7-abbb-cc1d082a80e3",
   "metadata": {},
   "source": [
    "### If the total baggage weight is over 20kg, charge $10 per extra kilogram. Otherwise, no extra fee."
   ]
  },
  {
   "cell_type": "code",
   "execution_count": 22,
   "id": "983e6559-bf30-4707-a488-3103fde020ca",
   "metadata": {},
   "outputs": [],
   "source": [
    "charges=2000"
   ]
  },
  {
   "cell_type": "code",
   "execution_count": 17,
   "id": "2a671395-286c-4df1-a4c3-f197a6b3c29a",
   "metadata": {},
   "outputs": [
    {
     "name": "stdin",
     "output_type": "stream",
     "text": [
      "Enter total weight 30\n"
     ]
    }
   ],
   "source": [
    "bag_weight=float(input(\"Enter total weight\"))"
   ]
  },
  {
   "cell_type": "code",
   "execution_count": 23,
   "id": "f103e029-858e-4155-ae48-0d898040db3c",
   "metadata": {},
   "outputs": [
    {
     "name": "stdout",
     "output_type": "stream",
     "text": [
      "Total Charges 2000\n",
      "Applied over weight charges 10%\n",
      "Payable Charges 2200.0\n"
     ]
    }
   ],
   "source": [
    "if bag_weight > 20:\n",
    "    surcharges=charges*(10/100)\n",
    "    print(f\"Total Charges {charges}\")\n",
    "    print(\"Applied over weight charges 10%\")\n",
    "    print(f\"Payable Charges {charges + surcharges}\")\n",
    "else:\n",
    "    print(f\"Payable Charges {charges}\")"
   ]
  },
  {
   "cell_type": "markdown",
   "id": "17d8a5dc",
   "metadata": {},
   "source": [
    "### 20.\tEarly Bird Discount"
   ]
  },
  {
   "cell_type": "markdown",
   "id": "25e9d3fb",
   "metadata": {},
   "source": [
    "### If a ticket is booked more than 30 days in advance, apply a 10% discount. Otherwise, charge the full price."
   ]
  },
  {
   "cell_type": "code",
   "execution_count": 1,
   "id": "1fbc5ed5",
   "metadata": {},
   "outputs": [],
   "source": [
    "tic_price=float(3000)"
   ]
  },
  {
   "cell_type": "code",
   "execution_count": 8,
   "id": "221e84d0",
   "metadata": {},
   "outputs": [
    {
     "name": "stdout",
     "output_type": "stream",
     "text": [
      "Enter no of days booked ticket:35\n"
     ]
    }
   ],
   "source": [
    "no_of_days=float(input(\"Enter no of days booked ticket:\"))"
   ]
  },
  {
   "cell_type": "code",
   "execution_count": 9,
   "id": "d1fd127e",
   "metadata": {},
   "outputs": [
    {
     "name": "stdout",
     "output_type": "stream",
     "text": [
      "Actual Ticket_Price 3000.0\n",
      "Discount_Applied 10%\n",
      "Pay Ticket_Price 2700.0\n"
     ]
    }
   ],
   "source": [
    "if no_of_days > 30 :\n",
    "    discount=tic_price*0.10\n",
    "    print(f\"Actual Ticket_Price {tic_price}\")\n",
    "    print(\"Discount_Applied 10%\")\n",
    "    print(f\"Pay Ticket_Price {tic_price - discount}\")\n",
    "else:\n",
    "    print(f\"Pay Ticket_Price {tic_price}\")"
   ]
  },
  {
   "cell_type": "markdown",
   "id": "c9941550",
   "metadata": {},
   "source": [
    "# Grades and Performance"
   ]
  },
  {
   "cell_type": "markdown",
   "id": "843d6615",
   "metadata": {},
   "source": [
    "### 21.\tPass or Fail"
   ]
  },
  {
   "cell_type": "markdown",
   "id": "35f025c2",
   "metadata": {},
   "source": [
    "### If a student scores 40 or more, print \"Pass\". Otherwise, print \"Fail\"."
   ]
  },
  {
   "cell_type": "code",
   "execution_count": 10,
   "id": "7e3bdf95",
   "metadata": {},
   "outputs": [
    {
     "name": "stdout",
     "output_type": "stream",
     "text": [
      "Enter your scores:50\n"
     ]
    }
   ],
   "source": [
    "scores=float(input(\"Enter your scores:\"))"
   ]
  },
  {
   "cell_type": "code",
   "execution_count": 11,
   "id": "dac98ee8",
   "metadata": {},
   "outputs": [
    {
     "name": "stdout",
     "output_type": "stream",
     "text": [
      "You are pass!\n"
     ]
    }
   ],
   "source": [
    "if scores > 40:\n",
    "    print(\"You are pass!\")\n",
    "else:\n",
    "    print(\"You are fail!\")"
   ]
  },
  {
   "cell_type": "markdown",
   "id": "b0c041f5",
   "metadata": {},
   "source": [
    "### 22.\tGrade Assignment"
   ]
  },
  {
   "cell_type": "markdown",
   "id": "cd088cbf",
   "metadata": {},
   "source": [
    "### Based on a student's score, assign grades:\n",
    "\t90 and above: \"A\"\n",
    "\t75–89: \"B\"\n",
    "\t50–74: \"C\"\n",
    "\tBelow 50: \"F\"\n"
   ]
  },
  {
   "cell_type": "code",
   "execution_count": 23,
   "id": "efe25fb5",
   "metadata": {},
   "outputs": [
    {
     "name": "stdout",
     "output_type": "stream",
     "text": [
      "Enter your percentage:85\n"
     ]
    }
   ],
   "source": [
    "per=float(input(\"Enter your percentage:\"))"
   ]
  },
  {
   "cell_type": "code",
   "execution_count": 24,
   "id": "5d0fc023",
   "metadata": {},
   "outputs": [
    {
     "name": "stdout",
     "output_type": "stream",
     "text": [
      "You got B grade!\n"
     ]
    }
   ],
   "source": [
    "if per > 90:\n",
    "    print(\"You got A grade!\")\n",
    "else:\n",
    "    pass\n",
    "\n",
    "if 75 < per < 89 :\n",
    "    print(\"You got B grade!\")\n",
    "else:\n",
    "    pass\n",
    "\n",
    "if 50 < per < 74 :\n",
    "    print(\"You got C grade!\")\n",
    "else:\n",
    "    pass\n",
    "\n",
    "if per < 50 :\n",
    "    print(\"You are fail!\")\n",
    "else:\n",
    "    pass"
   ]
  },
  {
   "cell_type": "markdown",
   "id": "3c48ffe2",
   "metadata": {},
   "source": [
    "### 23.\tBonus Marks\n"
   ]
  },
  {
   "cell_type": "markdown",
   "id": "571cdc0f",
   "metadata": {},
   "source": [
    "### If a student completes all assignments, add 5 bonus marks to their score. Otherwise, no bonus marks."
   ]
  },
  {
   "cell_type": "code",
   "execution_count": 25,
   "id": "d84d5a27",
   "metadata": {},
   "outputs": [
    {
     "name": "stdout",
     "output_type": "stream",
     "text": [
      "Enter your complete assignment:5\n"
     ]
    }
   ],
   "source": [
    "stu_ass=float(input(\"Enter your complete assignment:\"))"
   ]
  },
  {
   "cell_type": "code",
   "execution_count": 27,
   "id": "74cfe0df",
   "metadata": {},
   "outputs": [],
   "source": [
    "total_ass=float(5)"
   ]
  },
  {
   "cell_type": "code",
   "execution_count": 28,
   "id": "30f31051",
   "metadata": {},
   "outputs": [
    {
     "name": "stdout",
     "output_type": "stream",
     "text": [
      "You get 5 marks bonus!\n"
     ]
    }
   ],
   "source": [
    "if stu_ass == total_ass:\n",
    "    print(\"You get 5 marks bonus!\")\n",
    "else:\n",
    "    print(\"You donot get any bonus marks!\")"
   ]
  },
  {
   "cell_type": "markdown",
   "id": "2e34908b",
   "metadata": {},
   "source": [
    "### 24.\tAttendance Eligibility"
   ]
  },
  {
   "cell_type": "markdown",
   "id": "d04314c6",
   "metadata": {},
   "source": [
    "### If a student's attendance is 75% or more, they are eligible to take the exam. Otherwise, they are not."
   ]
  },
  {
   "cell_type": "code",
   "execution_count": 29,
   "id": "f305545e",
   "metadata": {},
   "outputs": [
    {
     "name": "stdout",
     "output_type": "stream",
     "text": [
      "Enter no of attendence:98\n"
     ]
    }
   ],
   "source": [
    "stu_atten=float(input(\"Enter no of attendence:\"))"
   ]
  },
  {
   "cell_type": "code",
   "execution_count": 30,
   "id": "8000166f",
   "metadata": {},
   "outputs": [
    {
     "name": "stdout",
     "output_type": "stream",
     "text": [
      "You are eligible for exam!\n"
     ]
    }
   ],
   "source": [
    "if stu_atten >= 75:\n",
    "    print(\"You are eligible for exam!\")\n",
    "else:\n",
    "    print(\"You are not eligible for exam!\")"
   ]
  },
  {
   "cell_type": "markdown",
   "id": "33c1ec87",
   "metadata": {},
   "source": [
    "### 25.\tScholarship Eligibility"
   ]
  },
  {
   "cell_type": "markdown",
   "id": "611b314c",
   "metadata": {},
   "source": [
    "### If a student's grade is \"A\" and their annual family income is below $30,000, they are eligible for a scholarship. Otherwise, they are not."
   ]
  },
  {
   "cell_type": "code",
   "execution_count": 33,
   "id": "62447491",
   "metadata": {},
   "outputs": [
    {
     "name": "stdout",
     "output_type": "stream",
     "text": [
      "Enter your grade:a\n",
      "Enter total annual income:20000\n"
     ]
    }
   ],
   "source": [
    "grade=input(\"Enter your grade:\")\n",
    "annual_income=float(input(\"Enter total annual income:\"))"
   ]
  },
  {
   "cell_type": "code",
   "execution_count": 34,
   "id": "1e936fe8",
   "metadata": {},
   "outputs": [
    {
     "name": "stdout",
     "output_type": "stream",
     "text": [
      "You are eligible for a scholarship!\n"
     ]
    }
   ],
   "source": [
    "if grade.upper() == \"A\" and annual_income < 30000:\n",
    "    print(\"You are eligible for a scholarship!\")\n",
    "else:\n",
    "    print(\"You are not eligible for a scholarship!\")"
   ]
  },
  {
   "cell_type": "code",
   "execution_count": null,
   "id": "8b9bd168",
   "metadata": {},
   "outputs": [],
   "source": []
  }
 ],
 "metadata": {
  "kernelspec": {
   "display_name": "Python 3 (ipykernel)",
   "language": "python",
   "name": "python3"
  },
  "language_info": {
   "codemirror_mode": {
    "name": "ipython",
    "version": 3
   },
   "file_extension": ".py",
   "mimetype": "text/x-python",
   "name": "python",
   "nbconvert_exporter": "python",
   "pygments_lexer": "ipython3",
   "version": "3.11.5"
  }
 },
 "nbformat": 4,
 "nbformat_minor": 5
}
