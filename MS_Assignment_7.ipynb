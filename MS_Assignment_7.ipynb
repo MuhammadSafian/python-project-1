{
 "cells": [
  {
   "cell_type": "markdown",
   "id": "979991b8-da70-4cf4-a5ab-28ca50b51786",
   "metadata": {},
   "source": [
    "# List Assignment "
   ]
  },
  {
   "cell_type": "markdown",
   "id": "d76eb5a1-59cb-43f4-bb57-67e0252c5953",
   "metadata": {},
   "source": [
    "### 1. Write a program that accepts a list from user and print the alternate element of list."
   ]
  },
  {
   "cell_type": "code",
   "execution_count": 1,
   "id": "9e4e99ad-1066-457d-84d0-5a8999a9b1fc",
   "metadata": {},
   "outputs": [
    {
     "name": "stdin",
     "output_type": "stream",
     "text": [
      "Enter list element seperated by space: a s d\n"
     ]
    },
    {
     "data": {
      "text/plain": [
       "['a', 's', 'd']"
      ]
     },
     "execution_count": 1,
     "metadata": {},
     "output_type": "execute_result"
    }
   ],
   "source": [
    "lst=input(\"Enter list element seperated by space:\")\n",
    "lst=lst.split()\n",
    "lst"
   ]
  },
  {
   "cell_type": "markdown",
   "id": "d6835787-4e06-4519-b4d0-6e7a835d8547",
   "metadata": {},
   "source": [
    "### 2. Write a program that accepts a list from user. Your program should reverse the content of list and display it. Do not use reverse() method. "
   ]
  },
  {
   "cell_type": "code",
   "execution_count": 13,
   "id": "d047c10f-936f-4552-818a-3bb8b0c9c231",
   "metadata": {},
   "outputs": [
    {
     "name": "stdin",
     "output_type": "stream",
     "text": [
      "Enter list element seperated by space: a b c\n"
     ]
    },
    {
     "data": {
      "text/plain": [
       "['c', 'b', 'a']"
      ]
     },
     "execution_count": 13,
     "metadata": {},
     "output_type": "execute_result"
    }
   ],
   "source": [
    "lst=input(\"Enter list element seperated by space:\")\n",
    "lst=lst.split()\n",
    "lst[::-1]"
   ]
  },
  {
   "cell_type": "markdown",
   "id": "abd6b5db-ed50-413e-a9d5-2639b5a87375",
   "metadata": {},
   "source": [
    "### 3. Find and display the largest number of a list without using built-in function max(). Your program should ask the user to input values in list from keyboard. "
   ]
  },
  {
   "cell_type": "code",
   "execution_count": 34,
   "id": "91006822-a0db-4045-9321-c8690f99b9da",
   "metadata": {},
   "outputs": [
    {
     "name": "stdin",
     "output_type": "stream",
     "text": [
      "Enter numbers seperated by space: 4 2 3 1\n"
     ]
    },
    {
     "name": "stdout",
     "output_type": "stream",
     "text": [
      "4\n"
     ]
    }
   ],
   "source": [
    "nums=[]\n",
    "number=input(\"Enter numbers seperated by space:\")\n",
    "for i in number.split():\n",
    "    if \".\" in i:\n",
    "        nums.append(float(i))\n",
    "    else:\n",
    "        nums.append(int(i))\n",
    "nums1=sorted(nums)\n",
    "print(nums1[-1])"
   ]
  },
  {
   "cell_type": "markdown",
   "id": "b4deac21-2c44-4176-8d34-ecb5dfc67265",
   "metadata": {},
   "source": [
    "### 4. Write a program that rotates the element of a list so that the element at the first index moves to the second index, the element in the second index moves to the third index, etc., and the element in the last index moves to the first index. "
   ]
  },
  {
   "cell_type": "code",
   "execution_count": 1,
   "id": "808f5921-a53c-4b59-af7f-6376db7163ed",
   "metadata": {},
   "outputs": [
    {
     "name": "stdin",
     "output_type": "stream",
     "text": [
      "Enter list element seperated by space: a b c d\n"
     ]
    }
   ],
   "source": [
    "lst=input(\"Enter list element seperated by space:\")\n",
    "lst=lst.split()\n",
    "lst1=lst[-1:] + lst[:-1]"
   ]
  },
  {
   "cell_type": "code",
   "execution_count": 3,
   "id": "fa63fdc7-37d8-431b-b7f9-0ac95b04f2cd",
   "metadata": {},
   "outputs": [
    {
     "data": {
      "text/plain": [
       "['d', 'a', 'b', 'c']"
      ]
     },
     "execution_count": 3,
     "metadata": {},
     "output_type": "execute_result"
    }
   ],
   "source": [
    "lst1"
   ]
  },
  {
   "cell_type": "markdown",
   "id": "12112dd3-e92f-47c2-b493-64dc6ac70735",
   "metadata": {},
   "source": [
    "### 5. Write a program that input a string and ask user to delete a given word from a string. \n"
   ]
  },
  {
   "cell_type": "code",
   "execution_count": 1,
   "id": "d1a33ccd-01b0-425e-80a0-e5c8094994a2",
   "metadata": {},
   "outputs": [
    {
     "name": "stdin",
     "output_type": "stream",
     "text": [
      "Enter list element seperated by space: ali ameer sufyan\n",
      "Enter a word to delete: ali\n"
     ]
    },
    {
     "data": {
      "text/plain": [
       "['ameer', 'sufyan']"
      ]
     },
     "execution_count": 1,
     "metadata": {},
     "output_type": "execute_result"
    }
   ],
   "source": [
    "lst=input(\"Enter list element seperated by space:\")\n",
    "lst=lst.split()\n",
    "word=input(\"Enter a word to delete:\")\n",
    "lst.remove(word)\n",
    "lst"
   ]
  },
  {
   "cell_type": "markdown",
   "id": "5e60c2c9-f9da-477e-9c27-ca6b70e7d2f4",
   "metadata": {},
   "source": [
    "### 6. Write a program that reads a string from the user containing a date in the form mm/dd/yyyy. It should print the date in the form March 12, 2021."
   ]
  },
  {
   "cell_type": "code",
   "execution_count": 7,
   "id": "d8dbde5e-fa53-4c2b-ba30-5dca16c62f9c",
   "metadata": {},
   "outputs": [
    {
     "name": "stdin",
     "output_type": "stream",
     "text": [
      "Enter date in the form of mm/dd/yyyy: 12/10/2024\n"
     ]
    },
    {
     "name": "stdout",
     "output_type": "stream",
     "text": [
      "Date : 12 10, 2024\n"
     ]
    }
   ],
   "source": [
    "user_input=input(\"Enter date in the form of mm/dd/yyyy:\")\n",
    "user_input=user_input.split('/')\n",
    "month=user_input[0]\n",
    "date=user_input[1]\n",
    "year=user_input[2]\n",
    "print(f\"Date : {month} {date}, {year}\")"
   ]
  },
  {
   "cell_type": "markdown",
   "id": "0ed32e53-3f45-44e1-aaa3-15b832edbe94",
   "metadata": {},
   "source": [
    "### 7. Write a program with a function that accepts a string from keyboard and create a new string after converting character of each word capitalized. For instance, if the sentence is \"stop and smell the roses.\" the output should be \"Stop And Smell The Roses\" \n"
   ]
  },
  {
   "cell_type": "code",
   "execution_count": 31,
   "id": "8b2d0490-a0fb-44b8-adc7-120caddd25cc",
   "metadata": {},
   "outputs": [
    {
     "name": "stdin",
     "output_type": "stream",
     "text": [
      "Enter any sentence: all the bee\n"
     ]
    },
    {
     "data": {
      "text/plain": [
       "['All', 'The', 'Bee']"
      ]
     },
     "execution_count": 31,
     "metadata": {},
     "output_type": "execute_result"
    }
   ],
   "source": [
    "text=input(\"Enter any sentence:\")\n",
    "text=text.split()\n"
   ]
  },
  {
   "cell_type": "markdown",
   "id": "544de5b2-10de-41d8-aaaf-c94bebd4e193",
   "metadata": {},
   "source": [
    "### 8. Find the sum of each row of matrix of size m x n. For example for the following matrix output will be \n",
    "like this : \n",
    "Sum of row 1 = 32 \n",
    "Sum of row 2 = 31 \n",
    "Sum of row 3 = 63 \n"
   ]
  },
  {
   "cell_type": "code",
   "execution_count": 13,
   "id": "9869eddb-af54-460a-ad58-78a50494c26c",
   "metadata": {},
   "outputs": [
    {
     "name": "stdout",
     "output_type": "stream",
     "text": [
      "6\n",
      "15\n",
      "24\n"
     ]
    }
   ],
   "source": [
    "matrix=[[1,2,3],\n",
    "        [4,5,6],\n",
    "        [7,8,9]]\n",
    "sum_row1=sum(matrix[0])\n",
    "sum_row2=sum(matrix[1])\n",
    "sum_row3=sum(matrix[2])\n",
    "print(sum_row1)\n",
    "print(sum_row2)\n",
    "print(sum_row3)"
   ]
  },
  {
   "cell_type": "markdown",
   "id": "a5b82506-b65b-430d-9968-3830857b983d",
   "metadata": {},
   "source": [
    "### 9. Write a program to add two matrices of size n x m. "
   ]
  },
  {
   "cell_type": "code",
   "execution_count": 19,
   "id": "e32a9964-3e84-4a09-a7c4-fb70a63775e0",
   "metadata": {},
   "outputs": [
    {
     "name": "stdout",
     "output_type": "stream",
     "text": [
      "matrix1:\n",
      "[1, 2, 3]\n",
      "[4, 5, 6]\n",
      "[7, 8, 9]\n",
      "matrix2:\n",
      "[1, 4, 3]\n",
      "[8, 2, 6]\n",
      "[9, 7, 4]\n",
      "Result:\n",
      "[2, 6, 6]\n",
      "[12, 7, 12]\n",
      "[16, 15, 13]\n"
     ]
    }
   ],
   "source": [
    "matrix1=[[1,2,3],\n",
    "        [4,5,6],\n",
    "        [7,8,9]]\n",
    "matrix2=[[1,4,3],\n",
    "        [8,2,6],\n",
    "        [9,7,4]]\n",
    "result=[[matrix1 [i][j] + matrix2 [i][j] for j in range (len(matrix1[0]))] for i in range (len(matrix1))]\n",
    "print(\"matrix1:\")\n",
    "for row in matrix1:\n",
    "    print(row)\n",
    "print(\"matrix2:\")\n",
    "for row in matrix2:\n",
    "    print(row)    \n",
    "print(\"Result:\")\n",
    "for row in result:\n",
    "    print(row)    "
   ]
  },
  {
   "cell_type": "markdown",
   "id": "58b6f786-133a-4c9f-a98c-a2ef9902f563",
   "metadata": {},
   "source": [
    "### 10. Write a program to multiply two matrices"
   ]
  },
  {
   "cell_type": "code",
   "execution_count": 22,
   "id": "85df2dda-11c0-4510-8a03-3723a2d939e1",
   "metadata": {},
   "outputs": [
    {
     "name": "stdout",
     "output_type": "stream",
     "text": [
      "matrix1:\n",
      "[1, 2, 3]\n",
      "[4, 5, 6]\n",
      "[7, 8, 9]\n",
      "matrix2:\n",
      "[1, 4, 3]\n",
      "[8, 2, 6]\n",
      "[9, 7, 4]\n",
      "Result:\n",
      "[44, 29, 27]\n",
      "[98, 68, 66]\n",
      "[152, 107, 105]\n"
     ]
    }
   ],
   "source": [
    "matrix1=[[1,2,3],\n",
    "        [4,5,6],\n",
    "        [7,8,9]]\n",
    "matrix2=[[1,4,3],\n",
    "        [8,2,6],\n",
    "        [9,7,4]]\n",
    "result=[[sum([matrix1 [i][k] * matrix2 [k][j] for k in range (len(matrix1[0]))]) for j in range (len(matrix1[0]))] for i in range (len(matrix1))]\n",
    "print(\"matrix1:\")\n",
    "for row in matrix1:\n",
    "    print(row)\n",
    "print(\"matrix2:\")\n",
    "for row in matrix2:\n",
    "    print(row)    \n",
    "print(\"Result:\")\n",
    "for row in result:\n",
    "    print(row)    "
   ]
  },
  {
   "cell_type": "code",
   "execution_count": null,
   "id": "3876fb7a-4ee5-4f8e-90a3-cf4769fa397d",
   "metadata": {},
   "outputs": [],
   "source": []
  }
 ],
 "metadata": {
  "kernelspec": {
   "display_name": "Python 3 (ipykernel)",
   "language": "python",
   "name": "python3"
  },
  "language_info": {
   "codemirror_mode": {
    "name": "ipython",
    "version": 3
   },
   "file_extension": ".py",
   "mimetype": "text/x-python",
   "name": "python",
   "nbconvert_exporter": "python",
   "pygments_lexer": "ipython3",
   "version": "3.12.7"
  }
 },
 "nbformat": 4,
 "nbformat_minor": 5
}
