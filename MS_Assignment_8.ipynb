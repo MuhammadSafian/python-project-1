{
 "cells": [
  {
   "cell_type": "markdown",
   "id": "9846648e-b09d-482e-996e-4ea0c63dff6c",
   "metadata": {},
   "source": [
    "### 1. Write a Python function to find the maximum of three numbers. "
   ]
  },
  {
   "cell_type": "code",
   "execution_count": 1,
   "id": "07d34afe-8c3a-445b-9ab2-4dd6d8466d2a",
   "metadata": {},
   "outputs": [],
   "source": [
    "def max_num(a,b,c):\n",
    "    return max(a,b,c)"
   ]
  },
  {
   "cell_type": "code",
   "execution_count": 3,
   "id": "545b52f9-b130-48fc-9a77-539215955451",
   "metadata": {},
   "outputs": [
    {
     "data": {
      "text/plain": [
       "20"
      ]
     },
     "execution_count": 3,
     "metadata": {},
     "output_type": "execute_result"
    }
   ],
   "source": [
    "max_num(10,15,20)"
   ]
  },
  {
   "cell_type": "markdown",
   "id": "5042e737-6add-4f30-880f-740c40b514bb",
   "metadata": {},
   "source": [
    "### 2. Write a Python function to sum all the numbers in a list. \n",
    "### Sample List : (8, 2, 3, 0, 7) \n",
    "### Expected Output : 20"
   ]
  },
  {
   "cell_type": "code",
   "execution_count": 35,
   "id": "974b9207-1c4b-4449-84a2-99da9219ec47",
   "metadata": {},
   "outputs": [],
   "source": [
    "def sum_lst(lst):\n",
    "    return sum(lst)"
   ]
  },
  {
   "cell_type": "code",
   "execution_count": 37,
   "id": "df848826-f9dc-4fb0-9dc7-2034e0b53f92",
   "metadata": {},
   "outputs": [
    {
     "data": {
      "text/plain": [
       "20"
      ]
     },
     "execution_count": 37,
     "metadata": {},
     "output_type": "execute_result"
    }
   ],
   "source": [
    "sum_lst([8,2,3,0,7])"
   ]
  },
  {
   "cell_type": "markdown",
   "id": "e29d8b23-2b94-44a0-b13d-08fbcf45db51",
   "metadata": {},
   "source": [
    "### 3. Write a Python function to multiply all the numbers in a list. \n",
    "### Sample List : (8, 2, 3, -1, 7) \n",
    "### Expected Output : -336"
   ]
  },
  {
   "cell_type": "code",
   "execution_count": 40,
   "id": "cdc68073-3eae-4a17-bf47-c6fd1ab146e9",
   "metadata": {},
   "outputs": [],
   "source": [
    "def mul_lst(lst):\n",
    "    result = 1\n",
    "    for i in lst:\n",
    "        result *= i\n",
    "    return result    "
   ]
  },
  {
   "cell_type": "code",
   "execution_count": 42,
   "id": "86e5ba2e-c8d2-4df7-bd42-a86f532ef6c8",
   "metadata": {},
   "outputs": [
    {
     "data": {
      "text/plain": [
       "-336"
      ]
     },
     "execution_count": 42,
     "metadata": {},
     "output_type": "execute_result"
    }
   ],
   "source": [
    "mul_lst([8,2,3,-1,7])"
   ]
  },
  {
   "cell_type": "markdown",
   "id": "ce0a1c92-ae10-45c8-b82a-e1fd781347c8",
   "metadata": {},
   "source": [
    "### 4. Write a Python program to reverse a string. \n",
    "### Sample String : \"1234abcd\" \n",
    "### Expected Output : \"dcba4321\" "
   ]
  },
  {
   "cell_type": "code",
   "execution_count": 45,
   "id": "1d466ba9-2ccb-4739-981c-64e64cbe8054",
   "metadata": {},
   "outputs": [],
   "source": [
    "def rev_str(string):\n",
    "    return string[::-1]"
   ]
  },
  {
   "cell_type": "code",
   "execution_count": 47,
   "id": "fe45fc22-91aa-4ba8-bdd7-4233ad7a3c22",
   "metadata": {},
   "outputs": [
    {
     "data": {
      "text/plain": [
       "'dcba4321'"
      ]
     },
     "execution_count": 47,
     "metadata": {},
     "output_type": "execute_result"
    }
   ],
   "source": [
    "rev_str(\"1234abcd\")"
   ]
  },
  {
   "cell_type": "markdown",
   "id": "94a8b6f9-9c14-4f49-accd-8955482b1a29",
   "metadata": {},
   "source": [
    "### 5. Write a Python function to calculate the factorial of a number (a non-negative integer). The function accepts the number as an argument"
   ]
  },
  {
   "cell_type": "code",
   "execution_count": 1,
   "id": "0e0a0ad0-0d5d-49db-b190-c78b42a9b70c",
   "metadata": {},
   "outputs": [],
   "source": [
    "def fact (n):\n",
    "    i=1\n",
    "    for x in range(1,n+1):\n",
    "        i*=x\n",
    "    print(i)"
   ]
  },
  {
   "cell_type": "code",
   "execution_count": 3,
   "id": "030819ae-ffe3-42d4-ac97-53d3527b8eb1",
   "metadata": {},
   "outputs": [
    {
     "name": "stdout",
     "output_type": "stream",
     "text": [
      "6\n"
     ]
    }
   ],
   "source": [
    "fact(3)"
   ]
  },
  {
   "cell_type": "markdown",
   "id": "73b67303-14f9-4b2e-946c-e591ab115692",
   "metadata": {},
   "source": [
    "### 6. Write a Python function to check whether a number falls within a given range"
   ]
  },
  {
   "cell_type": "code",
   "execution_count": 7,
   "id": "1a750e48-1a13-42a8-bb5f-b5f9c13c6aa0",
   "metadata": {},
   "outputs": [],
   "source": [
    "def is_in_range(num):\n",
    "    lower = 1\n",
    "    upper = 20\n",
    "    if lower <= num <= upper :\n",
    "        return True\n",
    "    else:\n",
    "        False"
   ]
  },
  {
   "cell_type": "code",
   "execution_count": 9,
   "id": "3c171846-7a27-4f4e-b5ca-ef43970b3dd8",
   "metadata": {},
   "outputs": [
    {
     "data": {
      "text/plain": [
       "True"
      ]
     },
     "execution_count": 9,
     "metadata": {},
     "output_type": "execute_result"
    }
   ],
   "source": [
    "is_in_range(9)"
   ]
  },
  {
   "cell_type": "markdown",
   "id": "45f3b4f8-50d7-4eab-93df-da0ab0eddbc0",
   "metadata": {},
   "source": [
    "### 7. Write a Python function that accepts a string and counts the number of upper and lower case letters. \n",
    "### Sample String : 'The quick Brow Fox' \n",
    "### Expected Output : No. of Upper case characters : 3 || No. of Lower case Characters : 12"
   ]
  },
  {
   "cell_type": "code",
   "execution_count": 5,
   "id": "f5efaa71-2fbd-4df5-a6f2-a6e4b5ec3e83",
   "metadata": {},
   "outputs": [],
   "source": [
    "def string (string):\n",
    "    uppercase_count = 0 \n",
    "    lowercase_count = 0\n",
    "    for i in range(len(string)):\n",
    "        if string[i].isupper():\n",
    "            uppercase_count += 1\n",
    "        elif string[i].islower():\n",
    "                lowercase_count += 1\n",
    "        else:\n",
    "            pass\n",
    "    return f\"\"\"\n",
    "               Uppercase letters : {uppercase_count}\n",
    "               Lowercase letters : {lowercase_count}\n",
    "                \"\"\""
   ]
  },
  {
   "cell_type": "code",
   "execution_count": 9,
   "id": "875c2dca-ce8c-4a35-830a-d62905c3f050",
   "metadata": {},
   "outputs": [
    {
     "name": "stdout",
     "output_type": "stream",
     "text": [
      "\n",
      "               Uppercase letters : 3\n",
      "               Lowercase letters : 12\n",
      "                \n"
     ]
    }
   ],
   "source": [
    "print(string(\"The quick Brow Fox\"))"
   ]
  },
  {
   "cell_type": "markdown",
   "id": "dd461c4d-f50f-4382-9ee6-17e3de59140b",
   "metadata": {},
   "source": [
    "### 8. Write a Python function that takes a list and returns a new list with distinct elements from the first list. \n",
    "### Sample List : [1,2,3,3,3,3,4,5] \n",
    "### Unique List : [1, 2, 3, 4, 5]  "
   ]
  },
  {
   "cell_type": "code",
   "execution_count": 15,
   "id": "b871cf2d-0766-43c1-b314-3586bab19c3e",
   "metadata": {},
   "outputs": [],
   "source": [
    "def lst (lst):\n",
    "    \n",
    "    unique_lst=set (lst)\n",
    "    print(list (unique_lst))"
   ]
  },
  {
   "cell_type": "code",
   "execution_count": 17,
   "id": "59daa673-95cd-4186-a8c2-87551b800445",
   "metadata": {},
   "outputs": [
    {
     "name": "stdout",
     "output_type": "stream",
     "text": [
      "[1, 2, 3, 4, 5]\n"
     ]
    }
   ],
   "source": [
    "lst([1,2,3,3,3,3,4,5])"
   ]
  },
  {
   "cell_type": "markdown",
   "id": "e42cf239-5541-4f5a-adf1-8c11b9407f4d",
   "metadata": {},
   "source": [
    "### 9. Write a Python function that takes a number as a parameter and checks whether the number is prime or not. \n",
    "### Note : A prime number (or a prime) is a natural number greater than 1 and that has no positive divisors other than 1 and itself. \n"
   ]
  },
  {
   "cell_type": "code",
   "execution_count": 104,
   "id": "9b556956-a146-4221-9872-9997199e0dad",
   "metadata": {},
   "outputs": [],
   "source": [
    "def check (num):\n",
    "    if num <= 1:\n",
    "        return \"Enter number greater than 1\"\n",
    "    for i in range (2,num):\n",
    "        if num % i == 0:\n",
    "            return f\"\"\"It is not a prime number : {num}\"\"\"\n",
    "        return f\"\"\"It is a prime number : {num}\"\"\""
   ]
  },
  {
   "cell_type": "code",
   "execution_count": 110,
   "id": "558c89c1-1d23-4ed6-85d7-dbf4c3124841",
   "metadata": {},
   "outputs": [
    {
     "data": {
      "text/plain": [
       "'It is a prime number : 7'"
      ]
     },
     "execution_count": 110,
     "metadata": {},
     "output_type": "execute_result"
    }
   ],
   "source": [
    "check(7)"
   ]
  },
  {
   "cell_type": "markdown",
   "id": "3946750b-0ac0-4e63-a192-7065d9ab4bb2",
   "metadata": {},
   "source": [
    "### 10. Write a Python program to print the even numbers from a given list. \n",
    "### Sample List : [1, 2, 3, 4, 5, 6, 7, 8, 9]\n",
    "### Expected Result : [2, 4, 6, 8] \n",
    " "
   ]
  },
  {
   "cell_type": "code",
   "execution_count": 15,
   "id": "2eca4f57-c3c1-4b96-9ede-f5d31e9342d7",
   "metadata": {},
   "outputs": [],
   "source": [
    "def lst ():\n",
    "    lst=[1,2,3,4,5,6,7,8,9]\n",
    "    lst1=[]\n",
    "    for i in range (2,len(lst),2):\n",
    "        lst1.append(i)\n",
    "    return lst1\n",
    "        "
   ]
  },
  {
   "cell_type": "code",
   "execution_count": 17,
   "id": "23e77d26-3a96-46e7-a35a-b28621de9314",
   "metadata": {},
   "outputs": [
    {
     "data": {
      "text/plain": [
       "[2, 4, 6, 8]"
      ]
     },
     "execution_count": 17,
     "metadata": {},
     "output_type": "execute_result"
    }
   ],
   "source": [
    "lst()"
   ]
  },
  {
   "cell_type": "markdown",
   "id": "bbadafa5-0080-427e-8b69-20220c9d8f7b",
   "metadata": {},
   "source": [
    "### 11. Write a Python function to check whether a number is \"Perfect\" or not. According to Wikipedia : In number theory, a perfect number is a positive integer that is equal to the sum of its proper positive divisors, that is, the sum of its positive divisors excluding the number itself (also known as its aliquot sum). Equivalently, a perfect number is a number that is half the sum of all of its positive divisors (including itself). \n",
    "### Example : The first perfect number is 6, because 1, 2, and 3 are its proper positive divisors, and 1 + 2 + 3 = 6. Equivalently, the number 6 is equal to half the sum of all its positive divisors: ( 1 + 2 + 3 + 6 ) / 2 = 6. The next perfect number is 28 = 1 + 2 + 4 + 7 + 14. This is followed by the perfect numbers 496 and 8128. "
   ]
  },
  {
   "cell_type": "code",
   "execution_count": 1,
   "id": "bbc56ba6-a981-4656-8c19-3ab9e3eed609",
   "metadata": {},
   "outputs": [],
   "source": [
    "pass"
   ]
  },
  {
   "cell_type": "markdown",
   "id": "2eb9af8b-98e0-4829-9a68-1fdff34f6de7",
   "metadata": {},
   "source": [
    "### 12. Write a Python function that checks whether a passed string is a palindrome or not. \n",
    "### Note: A palindrome is a word, phrase, or sequence that reads the same backward as forward, e.g., madam or nurses run. "
   ]
  },
  {
   "cell_type": "code",
   "execution_count": 40,
   "id": "7594e4f2-c337-4aec-906f-f84f0561cbf4",
   "metadata": {},
   "outputs": [],
   "source": [
    "def check (string):\n",
    "    if string == string[::-1]:\n",
    "        return f\"\"\"{string} is polandrome\"\"\"\n",
    "    else:\n",
    "        return f\"\"\"{string} is not polandrome\"\"\""
   ]
  },
  {
   "cell_type": "code",
   "execution_count": 42,
   "id": "5f5755e9-9a8b-4505-adbc-acf897d3d632",
   "metadata": {},
   "outputs": [
    {
     "data": {
      "text/plain": [
       "'madam is polandrome'"
      ]
     },
     "execution_count": 42,
     "metadata": {},
     "output_type": "execute_result"
    }
   ],
   "source": [
    "check(\"madam\")"
   ]
  },
  {
   "cell_type": "code",
   "execution_count": null,
   "id": "04d69359-0dfc-4b15-a725-66dbbd8a1912",
   "metadata": {},
   "outputs": [],
   "source": []
  }
 ],
 "metadata": {
  "kernelspec": {
   "display_name": "Python 3 (ipykernel)",
   "language": "python",
   "name": "python3"
  },
  "language_info": {
   "codemirror_mode": {
    "name": "ipython",
    "version": 3
   },
   "file_extension": ".py",
   "mimetype": "text/x-python",
   "name": "python",
   "nbconvert_exporter": "python",
   "pygments_lexer": "ipython3",
   "version": "3.12.7"
  }
 },
 "nbformat": 4,
 "nbformat_minor": 5
}
