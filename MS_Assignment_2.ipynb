{
 "cells": [
  {
   "cell_type": "markdown",
   "id": "08a12d4d",
   "metadata": {},
   "source": [
    "# Area of a Rectangle:"
   ]
  },
  {
   "cell_type": "code",
   "execution_count": 2,
   "id": "c0357cd2",
   "metadata": {},
   "outputs": [
    {
     "name": "stdout",
     "output_type": "stream",
     "text": [
      "Enter length:5\n"
     ]
    }
   ],
   "source": [
    "length=int(input(\"Enter length:\"))"
   ]
  },
  {
   "cell_type": "code",
   "execution_count": 3,
   "id": "d5510e6a",
   "metadata": {},
   "outputs": [
    {
     "name": "stdout",
     "output_type": "stream",
     "text": [
      "Enter width:3\n"
     ]
    }
   ],
   "source": [
    "width=int(input(\"Enter width:\"))"
   ]
  },
  {
   "cell_type": "code",
   "execution_count": 4,
   "id": "36e3bf4a",
   "metadata": {},
   "outputs": [
    {
     "data": {
      "text/plain": [
       "15"
      ]
     },
     "execution_count": 4,
     "metadata": {},
     "output_type": "execute_result"
    }
   ],
   "source": [
    "area=length*width\n",
    "area"
   ]
  },
  {
   "cell_type": "markdown",
   "id": "af286eb2",
   "metadata": {},
   "source": [
    "# Circumference of a Circle:"
   ]
  },
  {
   "cell_type": "code",
   "execution_count": 5,
   "id": "4c587d76",
   "metadata": {},
   "outputs": [
    {
     "name": "stdout",
     "output_type": "stream",
     "text": [
      "Enter radius:5\n"
     ]
    }
   ],
   "source": [
    "radius=int(input(\"Enter radius:\"))"
   ]
  },
  {
   "cell_type": "code",
   "execution_count": 6,
   "id": "556e4334",
   "metadata": {},
   "outputs": [
    {
     "data": {
      "text/plain": [
       "31.419999999999998"
      ]
     },
     "execution_count": 6,
     "metadata": {},
     "output_type": "execute_result"
    }
   ],
   "source": [
    "pi=3.142\n",
    "circumference=2*pi*radius\n",
    "circumference"
   ]
  },
  {
   "cell_type": "markdown",
   "id": "8b21e6f8",
   "metadata": {},
   "source": [
    "# Simple Interest:"
   ]
  },
  {
   "cell_type": "code",
   "execution_count": 7,
   "id": "01033497",
   "metadata": {},
   "outputs": [
    {
     "name": "stdout",
     "output_type": "stream",
     "text": [
      "Enter principal:5\n"
     ]
    }
   ],
   "source": [
    "principal=int(input(\"Enter principal:\"))"
   ]
  },
  {
   "cell_type": "code",
   "execution_count": 8,
   "id": "c01cb499",
   "metadata": {},
   "outputs": [
    {
     "name": "stdout",
     "output_type": "stream",
     "text": [
      "Enter rate:3\n"
     ]
    }
   ],
   "source": [
    "rate=int(input(\"Enter rate:\"))"
   ]
  },
  {
   "cell_type": "code",
   "execution_count": 9,
   "id": "8c7c61cc",
   "metadata": {},
   "outputs": [
    {
     "name": "stdout",
     "output_type": "stream",
     "text": [
      "Enter time:5\n"
     ]
    }
   ],
   "source": [
    "time=int(input(\"Enter time:\"))"
   ]
  },
  {
   "cell_type": "code",
   "execution_count": 10,
   "id": "c24beeb9",
   "metadata": {},
   "outputs": [
    {
     "data": {
      "text/plain": [
       "75"
      ]
     },
     "execution_count": 10,
     "metadata": {},
     "output_type": "execute_result"
    }
   ],
   "source": [
    "simple_interest=principal*rate*time\n",
    "simple_interest"
   ]
  },
  {
   "cell_type": "markdown",
   "id": "fe179628",
   "metadata": {},
   "source": [
    "#  Speed of an Object:"
   ]
  },
  {
   "cell_type": "code",
   "execution_count": 11,
   "id": "6f843e58",
   "metadata": {},
   "outputs": [
    {
     "name": "stdout",
     "output_type": "stream",
     "text": [
      "Enter distance:5\n"
     ]
    }
   ],
   "source": [
    "distance=int(input(\"Enter distance:\"))"
   ]
  },
  {
   "cell_type": "code",
   "execution_count": 12,
   "id": "0a02235a",
   "metadata": {},
   "outputs": [
    {
     "name": "stdout",
     "output_type": "stream",
     "text": [
      "Enter time:3\n"
     ]
    }
   ],
   "source": [
    "time=int(input(\"Enter time:\"))"
   ]
  },
  {
   "cell_type": "code",
   "execution_count": 13,
   "id": "d2b63f39",
   "metadata": {},
   "outputs": [
    {
     "data": {
      "text/plain": [
       "1.6666666666666667"
      ]
     },
     "execution_count": 13,
     "metadata": {},
     "output_type": "execute_result"
    }
   ],
   "source": [
    "speed=distance/time\n",
    "speed"
   ]
  },
  {
   "cell_type": "markdown",
   "id": "07e42213",
   "metadata": {},
   "source": [
    "# BMI Calculator:"
   ]
  },
  {
   "cell_type": "code",
   "execution_count": 14,
   "id": "1aeabd0c",
   "metadata": {},
   "outputs": [
    {
     "name": "stdout",
     "output_type": "stream",
     "text": [
      "Enter in kg:75\n"
     ]
    }
   ],
   "source": [
    "weight=int(input(\"Enter in kg:\"))"
   ]
  },
  {
   "cell_type": "code",
   "execution_count": 16,
   "id": "90e392e1",
   "metadata": {},
   "outputs": [
    {
     "name": "stdout",
     "output_type": "stream",
     "text": [
      "Enter height:5.5\n"
     ]
    }
   ],
   "source": [
    "height=float(input(\"Enter height:\"))"
   ]
  },
  {
   "cell_type": "code",
   "execution_count": 17,
   "id": "88d116b3",
   "metadata": {},
   "outputs": [
    {
     "data": {
      "text/plain": [
       "30.25"
      ]
     },
     "execution_count": 17,
     "metadata": {},
     "output_type": "execute_result"
    }
   ],
   "source": [
    "sq_height=height**2\n",
    "sq_height"
   ]
  },
  {
   "cell_type": "code",
   "execution_count": 18,
   "id": "4c574660",
   "metadata": {},
   "outputs": [
    {
     "data": {
      "text/plain": [
       "2.479338842975207"
      ]
     },
     "execution_count": 18,
     "metadata": {},
     "output_type": "execute_result"
    }
   ],
   "source": [
    "BMI=weight/sq_height\n",
    "BMI"
   ]
  },
  {
   "cell_type": "markdown",
   "id": "68bf1d85",
   "metadata": {},
   "source": [
    "#  Force Using Newton's Second Law:"
   ]
  },
  {
   "cell_type": "code",
   "execution_count": 19,
   "id": "632f540e",
   "metadata": {},
   "outputs": [
    {
     "name": "stdout",
     "output_type": "stream",
     "text": [
      "Enter mass:30\n"
     ]
    }
   ],
   "source": [
    "m=int(input(\"Enter mass:\"))"
   ]
  },
  {
   "cell_type": "code",
   "execution_count": 20,
   "id": "182d9328",
   "metadata": {},
   "outputs": [
    {
     "name": "stdout",
     "output_type": "stream",
     "text": [
      "Enter acceleration:10\n"
     ]
    }
   ],
   "source": [
    "a=int(input(\"Enter acceleration:\"))"
   ]
  },
  {
   "cell_type": "code",
   "execution_count": 21,
   "id": "8db8d351",
   "metadata": {},
   "outputs": [
    {
     "data": {
      "text/plain": [
       "300"
      ]
     },
     "execution_count": 21,
     "metadata": {},
     "output_type": "execute_result"
    }
   ],
   "source": [
    "force=m*a\n",
    "force"
   ]
  },
  {
   "cell_type": "markdown",
   "id": "4410787b",
   "metadata": {},
   "source": [
    "#  Perimeter of a Triangle:"
   ]
  },
  {
   "cell_type": "code",
   "execution_count": 22,
   "id": "4f667ded",
   "metadata": {},
   "outputs": [
    {
     "name": "stdout",
     "output_type": "stream",
     "text": [
      "Enter length_1:5\n"
     ]
    }
   ],
   "source": [
    "a=float(input(\"Enter length_1:\"))"
   ]
  },
  {
   "cell_type": "code",
   "execution_count": 23,
   "id": "65081de2",
   "metadata": {},
   "outputs": [
    {
     "name": "stdout",
     "output_type": "stream",
     "text": [
      "Enter length_2:20\n"
     ]
    }
   ],
   "source": [
    "b=float(input(\"Enter length_2:\"))"
   ]
  },
  {
   "cell_type": "code",
   "execution_count": 24,
   "id": "f8676daa",
   "metadata": {},
   "outputs": [
    {
     "name": "stdout",
     "output_type": "stream",
     "text": [
      "Enter length_3:10\n"
     ]
    }
   ],
   "source": [
    "c=float(input(\"Enter length_3:\"))"
   ]
  },
  {
   "cell_type": "code",
   "execution_count": 25,
   "id": "4ebb2a91",
   "metadata": {},
   "outputs": [
    {
     "data": {
      "text/plain": [
       "35.0"
      ]
     },
     "execution_count": 25,
     "metadata": {},
     "output_type": "execute_result"
    }
   ],
   "source": [
    "perimeter=a+b+c\n",
    "perimeter"
   ]
  },
  {
   "cell_type": "markdown",
   "id": "c98066c9",
   "metadata": {},
   "source": [
    "#  Compound Interest: "
   ]
  },
  {
   "cell_type": "code",
   "execution_count": 26,
   "id": "8563ead1",
   "metadata": {},
   "outputs": [
    {
     "name": "stdout",
     "output_type": "stream",
     "text": [
      "Enter principal amount:15\n"
     ]
    }
   ],
   "source": [
    "p=float(input(\"Enter principal amount:\"))"
   ]
  },
  {
   "cell_type": "code",
   "execution_count": 27,
   "id": "af74aa1d",
   "metadata": {},
   "outputs": [
    {
     "name": "stdout",
     "output_type": "stream",
     "text": [
      "Enter annual interest rate:5\n"
     ]
    }
   ],
   "source": [
    "r=float(input(\"Enter annual interest rate:\"))"
   ]
  },
  {
   "cell_type": "code",
   "execution_count": 28,
   "id": "35bab49a",
   "metadata": {},
   "outputs": [
    {
     "name": "stdout",
     "output_type": "stream",
     "text": [
      "Enter number of times interest is compounded per year:2\n"
     ]
    }
   ],
   "source": [
    "n=float(input(\"Enter number of times interest is compounded per year:\"))"
   ]
  },
  {
   "cell_type": "code",
   "execution_count": 29,
   "id": "8dcdbc8a",
   "metadata": {},
   "outputs": [
    {
     "name": "stdout",
     "output_type": "stream",
     "text": [
      "Enter time in years3\n"
     ]
    }
   ],
   "source": [
    "t=float(input(\"Enter time in years\"))"
   ]
  },
  {
   "cell_type": "code",
   "execution_count": 30,
   "id": "e52b84f2",
   "metadata": {},
   "outputs": [
    {
     "data": {
      "text/plain": [
       "180.75"
      ]
     },
     "execution_count": 30,
     "metadata": {},
     "output_type": "execute_result"
    }
   ],
   "source": [
    "A=p*(1+r/n)**n-t\n",
    "A"
   ]
  },
  {
   "cell_type": "markdown",
   "id": "801c0897",
   "metadata": {},
   "source": [
    "# Volume of a Sphere: "
   ]
  },
  {
   "cell_type": "code",
   "execution_count": 31,
   "id": "8a670ed4",
   "metadata": {},
   "outputs": [
    {
     "name": "stdout",
     "output_type": "stream",
     "text": [
      "Enter radius:5\n"
     ]
    }
   ],
   "source": [
    "r=float(input(\"Enter radius:\"))"
   ]
  },
  {
   "cell_type": "code",
   "execution_count": 32,
   "id": "84f70315",
   "metadata": {},
   "outputs": [
    {
     "data": {
      "text/plain": [
       "523.6666666666666"
      ]
     },
     "execution_count": 32,
     "metadata": {},
     "output_type": "execute_result"
    }
   ],
   "source": [
    "volume=4/3*(3.142)*r**3\n",
    "volume"
   ]
  },
  {
   "cell_type": "markdown",
   "id": "c4046698",
   "metadata": {},
   "source": [
    "# Kinetic Energy: "
   ]
  },
  {
   "cell_type": "code",
   "execution_count": 33,
   "id": "86936fda",
   "metadata": {},
   "outputs": [
    {
     "name": "stdout",
     "output_type": "stream",
     "text": [
      "Enter mass in kg:12.5\n"
     ]
    }
   ],
   "source": [
    "m=float(input(\"Enter mass in kg:\"))"
   ]
  },
  {
   "cell_type": "code",
   "execution_count": 34,
   "id": "8c2fae02",
   "metadata": {},
   "outputs": [
    {
     "name": "stdout",
     "output_type": "stream",
     "text": [
      "Enter velocity in m/s:120\n"
     ]
    }
   ],
   "source": [
    "v=float(input(\"Enter velocity in m/s:\"))"
   ]
  },
  {
   "cell_type": "code",
   "execution_count": 35,
   "id": "8a994b05",
   "metadata": {},
   "outputs": [
    {
     "data": {
      "text/plain": [
       "90000.0"
      ]
     },
     "execution_count": 35,
     "metadata": {},
     "output_type": "execute_result"
    }
   ],
   "source": [
    "KE=1/2*m*v**2\n",
    "KE"
   ]
  },
  {
   "cell_type": "markdown",
   "id": "60e537bc",
   "metadata": {},
   "source": [
    "#  Quadratic Equation Roots:"
   ]
  },
  {
   "cell_type": "code",
   "execution_count": 36,
   "id": "1c7af200",
   "metadata": {},
   "outputs": [
    {
     "name": "stdout",
     "output_type": "stream",
     "text": [
      "Enter value_1:3\n"
     ]
    }
   ],
   "source": [
    "a=float(input(\"Enter value_1:\"))"
   ]
  },
  {
   "cell_type": "code",
   "execution_count": 37,
   "id": "e0ff59d1",
   "metadata": {},
   "outputs": [
    {
     "name": "stdout",
     "output_type": "stream",
     "text": [
      "Enter value_2:4\n"
     ]
    }
   ],
   "source": [
    "b=float(input(\"Enter value_2:\"))"
   ]
  },
  {
   "cell_type": "code",
   "execution_count": 38,
   "id": "0f2f8d9f",
   "metadata": {},
   "outputs": [
    {
     "name": "stdout",
     "output_type": "stream",
     "text": [
      "Enter value_3:2\n"
     ]
    }
   ],
   "source": [
    "c=float(input(\"Enter value_3:\"))"
   ]
  },
  {
   "cell_type": "code",
   "execution_count": 40,
   "id": "8832fb14",
   "metadata": {},
   "outputs": [
    {
     "data": {
      "text/plain": [
       "-8.0"
      ]
     },
     "execution_count": 40,
     "metadata": {},
     "output_type": "execute_result"
    }
   ],
   "source": [
    "y=(b**2-4*a*c)\n",
    "y"
   ]
  },
  {
   "cell_type": "code",
   "execution_count": 46,
   "id": "300f3a0a",
   "metadata": {},
   "outputs": [
    {
     "data": {
      "text/plain": [
       "-4.0"
      ]
     },
     "execution_count": 46,
     "metadata": {},
     "output_type": "execute_result"
    }
   ],
   "source": [
    "z=y**1/2\n",
    "z"
   ]
  },
  {
   "cell_type": "code",
   "execution_count": 47,
   "id": "c6ad3b74",
   "metadata": {},
   "outputs": [
    {
     "data": {
      "text/plain": [
       "-10.0"
      ]
     },
     "execution_count": 47,
     "metadata": {},
     "output_type": "execute_result"
    }
   ],
   "source": [
    "X1=-b+z/2*a\n",
    "X1"
   ]
  },
  {
   "cell_type": "code",
   "execution_count": 49,
   "id": "91caf909",
   "metadata": {},
   "outputs": [
    {
     "data": {
      "text/plain": [
       "2.0"
      ]
     },
     "execution_count": 49,
     "metadata": {},
     "output_type": "execute_result"
    }
   ],
   "source": [
    "X2=-b-z/2*a\n",
    "X2"
   ]
  },
  {
   "cell_type": "markdown",
   "id": "6c34be43",
   "metadata": {},
   "source": [
    "#  Temperature Conversion:"
   ]
  },
  {
   "cell_type": "code",
   "execution_count": 50,
   "id": "b8153cd6",
   "metadata": {},
   "outputs": [
    {
     "name": "stdout",
     "output_type": "stream",
     "text": [
      "Enter temperatuere:42\n"
     ]
    }
   ],
   "source": [
    "C=float(input(\"Enter temperatuere:\"))"
   ]
  },
  {
   "cell_type": "code",
   "execution_count": 51,
   "id": "e944c753",
   "metadata": {},
   "outputs": [
    {
     "data": {
      "text/plain": [
       "107.60000000000001"
      ]
     },
     "execution_count": 51,
     "metadata": {},
     "output_type": "execute_result"
    }
   ],
   "source": [
    "F=9/5*C+32\n",
    "F"
   ]
  },
  {
   "cell_type": "markdown",
   "id": "804e0554",
   "metadata": {},
   "source": [
    "#  Gravitational Force:"
   ]
  },
  {
   "cell_type": "code",
   "execution_count": 52,
   "id": "49f108d5",
   "metadata": {},
   "outputs": [
    {
     "name": "stdout",
     "output_type": "stream",
     "text": [
      "Enter mass_1:10\n"
     ]
    }
   ],
   "source": [
    "m1=float(input(\"Enter mass_1:\"))"
   ]
  },
  {
   "cell_type": "code",
   "execution_count": 53,
   "id": "244e9028",
   "metadata": {},
   "outputs": [
    {
     "name": "stdout",
     "output_type": "stream",
     "text": [
      "Enter mass_2:5\n"
     ]
    }
   ],
   "source": [
    "m2=float(input(\"Enter mass_2:\"))"
   ]
  },
  {
   "cell_type": "code",
   "execution_count": 54,
   "id": "9d76dc80",
   "metadata": {},
   "outputs": [
    {
     "name": "stdout",
     "output_type": "stream",
     "text": [
      "Enter radius:4\n"
     ]
    }
   ],
   "source": [
    "r=float(input(\"Enter radius:\"))"
   ]
  },
  {
   "cell_type": "code",
   "execution_count": 55,
   "id": "94dd6403",
   "metadata": {},
   "outputs": [
    {
     "data": {
      "text/plain": [
       "3.125"
      ]
     },
     "execution_count": 55,
     "metadata": {},
     "output_type": "execute_result"
    }
   ],
   "source": [
    "a=m1*m2/r**2\n",
    "a"
   ]
  },
  {
   "cell_type": "code",
   "execution_count": 57,
   "id": "30e08eeb",
   "metadata": {},
   "outputs": [
    {
     "data": {
      "text/plain": [
       "2.0856249999999997e-10"
      ]
     },
     "execution_count": 57,
     "metadata": {},
     "output_type": "execute_result"
    }
   ],
   "source": [
    "F=(6.674*10**-11)*a\n",
    "F"
   ]
  },
  {
   "cell_type": "markdown",
   "id": "8e31e388",
   "metadata": {},
   "source": [
    "#  Volume of a Cylinder:"
   ]
  },
  {
   "cell_type": "code",
   "execution_count": 58,
   "id": "d7d829b5",
   "metadata": {},
   "outputs": [
    {
     "name": "stdout",
     "output_type": "stream",
     "text": [
      "Enter radius:5.5\n"
     ]
    }
   ],
   "source": [
    "r=float(input(\"Enter radius:\"))"
   ]
  },
  {
   "cell_type": "code",
   "execution_count": 59,
   "id": "cb9ea94f",
   "metadata": {},
   "outputs": [
    {
     "name": "stdout",
     "output_type": "stream",
     "text": [
      "Enter height:15\n"
     ]
    }
   ],
   "source": [
    "h=float(input(\"Enter height:\"))"
   ]
  },
  {
   "cell_type": "code",
   "execution_count": 62,
   "id": "93c5cecb",
   "metadata": {},
   "outputs": [
    {
     "data": {
      "text/plain": [
       "1425.6825000000001"
      ]
     },
     "execution_count": 62,
     "metadata": {},
     "output_type": "execute_result"
    }
   ],
   "source": [
    "volume=(3.142)*(r**2)*(h)\n",
    "volume"
   ]
  },
  {
   "cell_type": "markdown",
   "id": "4bc01076",
   "metadata": {},
   "source": [
    "#  Pressure:\n"
   ]
  },
  {
   "cell_type": "code",
   "execution_count": 63,
   "id": "eac7203a",
   "metadata": {},
   "outputs": [
    {
     "name": "stdout",
     "output_type": "stream",
     "text": [
      "Enter force:25\n"
     ]
    }
   ],
   "source": [
    "f=float(input(\"Enter force:\"))"
   ]
  },
  {
   "cell_type": "code",
   "execution_count": 64,
   "id": "5c72afc6",
   "metadata": {},
   "outputs": [
    {
     "name": "stdout",
     "output_type": "stream",
     "text": [
      "Enter area:20\n"
     ]
    }
   ],
   "source": [
    "A=float(input(\"Enter area:\"))"
   ]
  },
  {
   "cell_type": "code",
   "execution_count": 65,
   "id": "a30e7c3d",
   "metadata": {},
   "outputs": [
    {
     "data": {
      "text/plain": [
       "1.25"
      ]
     },
     "execution_count": 65,
     "metadata": {},
     "output_type": "execute_result"
    }
   ],
   "source": [
    "p=f/A\n",
    "p"
   ]
  },
  {
   "cell_type": "markdown",
   "id": "d17ea4de",
   "metadata": {},
   "source": [
    "#  Electric Power:"
   ]
  },
  {
   "cell_type": "code",
   "execution_count": 66,
   "id": "2f11844e",
   "metadata": {},
   "outputs": [
    {
     "name": "stdout",
     "output_type": "stream",
     "text": [
      "Enter voltage:30\n"
     ]
    }
   ],
   "source": [
    "V=float(input(\"Enter voltage:\"))"
   ]
  },
  {
   "cell_type": "code",
   "execution_count": 67,
   "id": "37c1bffe",
   "metadata": {},
   "outputs": [
    {
     "name": "stdout",
     "output_type": "stream",
     "text": [
      "Enter current:2.3\n"
     ]
    }
   ],
   "source": [
    "I=float(input(\"Enter current:\"))"
   ]
  },
  {
   "cell_type": "code",
   "execution_count": 68,
   "id": "c9c2090a",
   "metadata": {},
   "outputs": [],
   "source": [
    "P=V/I"
   ]
  },
  {
   "cell_type": "code",
   "execution_count": 69,
   "id": "2cea3271",
   "metadata": {},
   "outputs": [
    {
     "data": {
      "text/plain": [
       "13.043478260869566"
      ]
     },
     "execution_count": 69,
     "metadata": {},
     "output_type": "execute_result"
    }
   ],
   "source": [
    "P"
   ]
  },
  {
   "cell_type": "markdown",
   "id": "426e9a07",
   "metadata": {},
   "source": [
    "# Perimeter of a Circle (Circumference):"
   ]
  },
  {
   "cell_type": "code",
   "execution_count": 70,
   "id": "7406b8e8",
   "metadata": {},
   "outputs": [
    {
     "name": "stdout",
     "output_type": "stream",
     "text": [
      "Enter radius:10\n"
     ]
    }
   ],
   "source": [
    "r=float(input(\"Enter radius:\"))"
   ]
  },
  {
   "cell_type": "code",
   "execution_count": 71,
   "id": "a3ea93be",
   "metadata": {},
   "outputs": [
    {
     "data": {
      "text/plain": [
       "62.839999999999996"
      ]
     },
     "execution_count": 71,
     "metadata": {},
     "output_type": "execute_result"
    }
   ],
   "source": [
    "P=2*3.142*r\n",
    "P"
   ]
  },
  {
   "cell_type": "markdown",
   "id": "b77f3510",
   "metadata": {},
   "source": [
    "#  Future Value in Savings:"
   ]
  },
  {
   "cell_type": "code",
   "execution_count": 73,
   "id": "0e169422",
   "metadata": {},
   "outputs": [
    {
     "name": "stdout",
     "output_type": "stream",
     "text": [
      "Enter present value:300\n"
     ]
    }
   ],
   "source": [
    "PV=float(input(\"Enter present value:\"))"
   ]
  },
  {
   "cell_type": "code",
   "execution_count": 75,
   "id": "1d068259",
   "metadata": {},
   "outputs": [
    {
     "name": "stdout",
     "output_type": "stream",
     "text": [
      "Enter annual interest rate:20\n"
     ]
    }
   ],
   "source": [
    "r=float(input(\"Enter annual interest rate:\"))"
   ]
  },
  {
   "cell_type": "code",
   "execution_count": 76,
   "id": "cad968f6",
   "metadata": {},
   "outputs": [
    {
     "name": "stdout",
     "output_type": "stream",
     "text": [
      "Enter time in years:3\n"
     ]
    }
   ],
   "source": [
    "t=float(input(\"Enter time in years:\"))"
   ]
  },
  {
   "cell_type": "code",
   "execution_count": 78,
   "id": "361ee19d",
   "metadata": {},
   "outputs": [
    {
     "data": {
      "text/plain": [
       "2778300.0"
      ]
     },
     "execution_count": 78,
     "metadata": {},
     "output_type": "execute_result"
    }
   ],
   "source": [
    "FV=PV*(1+r)**t\n",
    "FV"
   ]
  },
  {
   "cell_type": "markdown",
   "id": "3ffd87e1",
   "metadata": {},
   "source": [
    "# Work Done by a Force:"
   ]
  },
  {
   "cell_type": "code",
   "execution_count": 79,
   "id": "0a9b8348",
   "metadata": {},
   "outputs": [
    {
     "name": "stdout",
     "output_type": "stream",
     "text": [
      "Enter force:20\n"
     ]
    }
   ],
   "source": [
    "f=float(input(\"Enter force:\"))"
   ]
  },
  {
   "cell_type": "code",
   "execution_count": 80,
   "id": "0ede3541",
   "metadata": {},
   "outputs": [
    {
     "name": "stdout",
     "output_type": "stream",
     "text": [
      "Enter total distance:25\n"
     ]
    }
   ],
   "source": [
    "d=float(input(\"Enter total distance:\"))"
   ]
  },
  {
   "cell_type": "code",
   "execution_count": 81,
   "id": "b65d9799",
   "metadata": {},
   "outputs": [
    {
     "name": "stdout",
     "output_type": "stream",
     "text": [
      "Enter angle:45\n"
     ]
    }
   ],
   "source": [
    "theta=float(input(\"Enter angle:\"))"
   ]
  },
  {
   "cell_type": "code",
   "execution_count": 83,
   "id": "5e0f61ff",
   "metadata": {},
   "outputs": [
    {
     "data": {
      "text/plain": [
       "350.0"
      ]
     },
     "execution_count": 83,
     "metadata": {},
     "output_type": "execute_result"
    }
   ],
   "source": [
    "W=f*d*(0.70)\n",
    "W"
   ]
  },
  {
   "cell_type": "markdown",
   "id": "45861814",
   "metadata": {},
   "source": [
    "#  Heat Transfer:"
   ]
  },
  {
   "cell_type": "code",
   "execution_count": 5,
   "id": "6152c035",
   "metadata": {},
   "outputs": [
    {
     "name": "stdout",
     "output_type": "stream",
     "text": [
      "Enter mass:20\n"
     ]
    }
   ],
   "source": [
    "m=float(input(\"Enter mass:\"))"
   ]
  },
  {
   "cell_type": "code",
   "execution_count": 6,
   "id": "edaf37fb",
   "metadata": {},
   "outputs": [
    {
     "name": "stdout",
     "output_type": "stream",
     "text": [
      "Enter heat capacity:45.5\n"
     ]
    }
   ],
   "source": [
    "c=float(input(\"Enter heat capacity:\"))"
   ]
  },
  {
   "cell_type": "code",
   "execution_count": 2,
   "id": "90564177",
   "metadata": {},
   "outputs": [
    {
     "name": "stdout",
     "output_type": "stream",
     "text": [
      "Enter temperature_1:100\n"
     ]
    }
   ],
   "source": [
    "#delT=T2-T1\n",
    "T1=float(input(\"Enter temperature_1:\"))"
   ]
  },
  {
   "cell_type": "code",
   "execution_count": 3,
   "id": "20659d55",
   "metadata": {},
   "outputs": [
    {
     "name": "stdout",
     "output_type": "stream",
     "text": [
      "Enter temperature_2:150\n"
     ]
    }
   ],
   "source": [
    "T2=float(input(\"Enter temperature_2:\"))"
   ]
  },
  {
   "cell_type": "code",
   "execution_count": 8,
   "id": "33377c73",
   "metadata": {},
   "outputs": [
    {
     "data": {
      "text/plain": [
       "45500.0"
      ]
     },
     "execution_count": 8,
     "metadata": {},
     "output_type": "execute_result"
    }
   ],
   "source": [
    "Q=m*c*(T2-T1)\n",
    "Q"
   ]
  },
  {
   "cell_type": "code",
   "execution_count": null,
   "id": "e5dda74a",
   "metadata": {},
   "outputs": [],
   "source": []
  }
 ],
 "metadata": {
  "kernelspec": {
   "display_name": "Python 3 (ipykernel)",
   "language": "python",
   "name": "python3"
  },
  "language_info": {
   "codemirror_mode": {
    "name": "ipython",
    "version": 3
   },
   "file_extension": ".py",
   "mimetype": "text/x-python",
   "name": "python",
   "nbconvert_exporter": "python",
   "pygments_lexer": "ipython3",
   "version": "3.11.5"
  }
 },
 "nbformat": 4,
 "nbformat_minor": 5
}
