{
 "cells": [
  {
   "cell_type": "markdown",
   "id": "5af33776-29fa-4894-add9-cda3277270c6",
   "metadata": {},
   "source": [
    "# Banking System Project!"
   ]
  },
  {
   "cell_type": "code",
   "execution_count": 5,
   "id": "2a4b489d-ea88-4cce-8b6e-9921754374cf",
   "metadata": {},
   "outputs": [
    {
     "name": "stdout",
     "output_type": "stream",
     "text": [
      "--------------------\n",
      "Welcome To MS_Bank Managment System!\n",
      "1.Check Account\n",
      "2.Deposit Amount\n",
      "3.WithDraw Amount\n",
      "4.Check Balance\n",
      "5.Print Statement\n",
      "6.Exit\n",
      "---------------------\n"
     ]
    },
    {
     "name": "stdin",
     "output_type": "stream",
     "text": [
      "What do you want [select like 1,2,3 etc]:  6\n"
     ]
    },
    {
     "name": "stdout",
     "output_type": "stream",
     "text": [
      "*********************\n"
     ]
    }
   ],
   "source": [
    "# main function\n",
    "def account ():\n",
    "    # create account\n",
    "    acc = {\n",
    "               \"name\" : \"Muhammad Sufyan\",\n",
    "               \"balance\" : 0.0,\n",
    "               \"transections\" : []\n",
    "        }\n",
    "        # function for deposit amount in balance\n",
    "    def deposit_money():\n",
    "        try:\n",
    "            deposit = float(input(\"Enter deposit amount:\"))\n",
    "            # check possitive amount and update balance\n",
    "            if deposit >= 0:\n",
    "                acc[\"balance\"] += deposit\n",
    "                dep_money = f\"Deposited : {deposit} , New Balance : {acc[\"balance\"]}\"\n",
    "                \n",
    "                # update transections\n",
    "                acc[\"transections\"].append(dep_money)\n",
    "                \n",
    "                # Writing transaction to a file\n",
    "                with open(f\"{acc[\"name\"]}_transactions.txt\", \"a\") as file:\n",
    "                    file.write(f\"Deposited : {deposit} , New Balance : {acc[\"balance\"]}\\n\")\n",
    "                \n",
    "                print(dep_money)\n",
    "                print(\"Amount sucssesfully deposit!\")\n",
    "            \n",
    "            else:\n",
    "                print(\"Deposit amount must be greater than 0\")    \n",
    "         \n",
    "        except Exception as e:\n",
    "            print(f\"Exception generated and coaught {e}\")\n",
    "\n",
    "    # Withdraw functin\n",
    "    def withdraw_money():\n",
    "        try:\n",
    "            withdraw = float(input(\"Enter withdraw amount:\"))\n",
    "             # check possitive amount\n",
    "            if withdraw >= 0:\n",
    "                \n",
    "                # check for balance enough\n",
    "                if withdraw > acc[\"balance\"]:\n",
    "                     print(\"You does not have enough balance\")\n",
    "                \n",
    "                # manage balance\n",
    "                else:\n",
    "                    acc[\"balance\"] -= withdraw\n",
    "                    with_money = f\"Withdraw : {withdraw} , New Balance : {acc[\"balance\"]}\"\n",
    "                    \n",
    "                    # update transections\n",
    "                    acc[\"transections\"].append(with_money)\n",
    "                    \n",
    "                    # Writing transaction to a file\n",
    "                    with open(f\"{acc[\"name\"]}_transactions.txt\", \"a\") as file:\n",
    "                        file.write(f\"withdraw : {withdraw} , New Balance : {acc[\"balance\"]}\\n\")\n",
    "                    \n",
    "                    print(with_money)\n",
    "                    print(\"You sucssesfully withdraw money!\")\n",
    "            else:\n",
    "                print(\"Withdraw amount must be greater than 0\")\n",
    "                    \n",
    "        except Exception as e:\n",
    "            print(f\"Exception generated and coaught {e}\")\n",
    "\n",
    "    # Check_Balance\n",
    "    def check_balance():\n",
    "         print(f\"Your available balance : {acc[\"balance\"]}\")\n",
    "        \n",
    "     #Print_Statement\n",
    "    def print_statement():\n",
    "        print(f\"\"\"Your all Transections : {acc[\"transections\"]}\n",
    "Your remaining balnace : {acc[\"balance\"]}\n",
    "        \"\"\")\n",
    "\n",
    "    while True:\n",
    "        print(\"\"\"--------------------\n",
    "Welcome To MS_Bank Managment System!\n",
    "1.Check Account\n",
    "2.Deposit Amount\n",
    "3.WithDraw Amount\n",
    "4.Check Balance\n",
    "5.Print Statement\n",
    "6.Exit\"\"\")\n",
    "        print(\"---------------------\")\n",
    "        \n",
    "        try:  \n",
    "            user_input = int(input(\"What do you want [select like 1,2,3 etc]: \"))\n",
    "            if user_input == 1:\n",
    "                print(f\"Your Account :{acc}\")    \n",
    "            elif user_input == 2:\n",
    "                print(deposit_money())\n",
    "            elif user_input == 3:\n",
    "                print(withdraw_money())\n",
    "            elif user_input == 4:\n",
    "                print(check_balance())\n",
    "            elif user_input == 5:\n",
    "                (print_statement())\n",
    "            elif user_input == 6:\n",
    "                print(\"*********************\")\n",
    "                break\n",
    "            else:\n",
    "                print(\"Enter correct number!\")\n",
    "                pass\n",
    "        except Exception as e:\n",
    "            print(f\"Exception generated and coaught {e}!\")\n",
    "account()"
   ]
  },
  {
   "cell_type": "code",
   "execution_count": null,
   "id": "b885ee29-a09e-4b0b-8306-14dfde5c430d",
   "metadata": {},
   "outputs": [],
   "source": []
  }
 ],
 "metadata": {
  "kernelspec": {
   "display_name": "Python 3 (ipykernel)",
   "language": "python",
   "name": "python3"
  },
  "language_info": {
   "codemirror_mode": {
    "name": "ipython",
    "version": 3
   },
   "file_extension": ".py",
   "mimetype": "text/x-python",
   "name": "python",
   "nbconvert_exporter": "python",
   "pygments_lexer": "ipython3",
   "version": "3.12.7"
  }
 },
 "nbformat": 4,
 "nbformat_minor": 5
}
