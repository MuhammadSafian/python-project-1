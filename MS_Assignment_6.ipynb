{
 "cells": [
  {
   "cell_type": "markdown",
   "id": "38505592-efdc-4915-8fac-8cc4a71cb5d8",
   "metadata": {},
   "source": [
    "# Looping Structures"
   ]
  },
  {
   "cell_type": "markdown",
   "id": "bb5c1bfd-aa8c-454c-ae2e-4460ed8a22b8",
   "metadata": {},
   "source": [
    "### 1. Write a Python program to print the numbers from 1 to 10 using a for loop."
   ]
  },
  {
   "cell_type": "code",
   "execution_count": 5,
   "id": "840de644-76f9-4807-9385-176290169ea9",
   "metadata": {},
   "outputs": [
    {
     "name": "stdout",
     "output_type": "stream",
     "text": [
      "1\n",
      "2\n",
      "3\n",
      "4\n",
      "5\n",
      "6\n",
      "7\n",
      "8\n",
      "9\n",
      "10\n"
     ]
    }
   ],
   "source": [
    "for i in range(1,11):\n",
    "    print(i)"
   ]
  },
  {
   "cell_type": "markdown",
   "id": "e4045507-1d1c-4328-b831-34a1e7bddc8d",
   "metadata": {},
   "source": [
    "### 2. Write a Python program to print the numbers from 20 to 1 using a while loop"
   ]
  },
  {
   "cell_type": "code",
   "execution_count": 14,
   "id": "3b6eea05-a9e0-438b-b60f-41a2cefc52f5",
   "metadata": {},
   "outputs": [
    {
     "name": "stdout",
     "output_type": "stream",
     "text": [
      "20\n",
      "19\n",
      "18\n",
      "17\n",
      "16\n",
      "15\n",
      "14\n",
      "13\n",
      "12\n",
      "11\n",
      "10\n",
      "9\n",
      "8\n",
      "7\n",
      "6\n",
      "5\n",
      "4\n",
      "3\n",
      "2\n",
      "1\n"
     ]
    }
   ],
   "source": [
    "a=20\n",
    "while a>0:\n",
    "    print(a)\n",
    "    a-=1"
   ]
  },
  {
   "cell_type": "markdown",
   "id": "38ba736b-538e-49f8-a524-c3c60fcfa699",
   "metadata": {},
   "source": [
    "### 3. Write a program to print even numbers from 1 to 10. "
   ]
  },
  {
   "cell_type": "code",
   "execution_count": 17,
   "id": "ded2cb44-f9e7-4c01-933c-3cccceb49a32",
   "metadata": {},
   "outputs": [
    {
     "name": "stdout",
     "output_type": "stream",
     "text": [
      "0\n",
      "2\n",
      "4\n",
      "6\n",
      "8\n",
      "10\n"
     ]
    }
   ],
   "source": [
    "for i in range(0,11,2):\n",
    "    print(i)"
   ]
  },
  {
   "cell_type": "markdown",
   "id": "6c98bef2-443c-4049-a195-748511313991",
   "metadata": {},
   "source": [
    "### 4. Write a program that prompts the user to enter a number n and prints all the numbers from 1 to n."
   ]
  },
  {
   "cell_type": "code",
   "execution_count": 22,
   "id": "716811b6-8b52-400c-964f-9e08ce9f7cbb",
   "metadata": {},
   "outputs": [
    {
     "name": "stdin",
     "output_type": "stream",
     "text": [
      "Enter any number: 12\n"
     ]
    },
    {
     "name": "stdout",
     "output_type": "stream",
     "text": [
      "1\n",
      "2\n",
      "3\n",
      "4\n",
      "5\n",
      "6\n",
      "7\n",
      "8\n",
      "9\n",
      "10\n",
      "11\n",
      "12\n"
     ]
    }
   ],
   "source": [
    "n=int(input(\"Enter any number:\"))\n",
    "for i in range(1,n+1):\n",
    "    print(i)"
   ]
  },
  {
   "cell_type": "markdown",
   "id": "e23dfe3c-8fb1-4466-bc64-311b0e812edc",
   "metadata": {},
   "source": [
    "### 5. Write a program that prompts the user to enter a number n, and then prints all the odd numbers between 1 and n. "
   ]
  },
  {
   "cell_type": "code",
   "execution_count": 25,
   "id": "52dcf6e1-c901-45f0-800d-68e1f5551e4d",
   "metadata": {},
   "outputs": [
    {
     "name": "stdin",
     "output_type": "stream",
     "text": [
      "Enter any number: 5\n"
     ]
    },
    {
     "name": "stdout",
     "output_type": "stream",
     "text": [
      "1\n",
      "3\n",
      "5\n"
     ]
    }
   ],
   "source": [
    "n=int(input(\"Enter any number:\"))\n",
    "for i in range(1,n+1,2):\n",
    "    print(i)"
   ]
  },
  {
   "cell_type": "markdown",
   "id": "de585d28-037f-43da-9b40-1e76e8d6e38c",
   "metadata": {},
   "source": [
    "### 6. Write a program that prints 'Happy Birthday!' five times on screen. "
   ]
  },
  {
   "cell_type": "code",
   "execution_count": 32,
   "id": "96d89dc3-27c5-48b3-b802-5a8b3fa7840b",
   "metadata": {},
   "outputs": [
    {
     "name": "stdout",
     "output_type": "stream",
     "text": [
      "Happy Birthday\n",
      "Happy Birthday\n",
      "Happy Birthday\n",
      "Happy Birthday\n",
      "Happy Birthday\n"
     ]
    }
   ],
   "source": [
    "a=0\n",
    "while a<5:\n",
    "    print(\"Happy Birthday\")\n",
    "    a+=1"
   ]
  },
  {
   "cell_type": "markdown",
   "id": "92164f91-858a-48b7-9519-bed09677af5f",
   "metadata": {},
   "source": [
    "### 7. Write a program that takes a number n as input from the user and generates the first n terms of the series formed by squaring the natural numbers"
   ]
  },
  {
   "cell_type": "code",
   "execution_count": 37,
   "id": "5f993fa8-2e1c-411d-82ed-d2e4e693ce9b",
   "metadata": {},
   "outputs": [
    {
     "name": "stdin",
     "output_type": "stream",
     "text": [
      "Enter any number: 6\n"
     ]
    },
    {
     "name": "stdout",
     "output_type": "stream",
     "text": [
      "1\n",
      "4\n",
      "9\n",
      "16\n",
      "25\n",
      "36\n"
     ]
    }
   ],
   "source": [
    "n=int(input(\"Enter any number:\"))\n",
    "for i in range(1,n+1):\n",
    "    print(i**2)"
   ]
  },
  {
   "cell_type": "markdown",
   "id": "ec40a38f-ab1f-4acf-bdb4-1c02824a2329",
   "metadata": {},
   "source": [
    "### 8. Write a program that prompts the user to input a number and prints its multiplication table. \n"
   ]
  },
  {
   "cell_type": "code",
   "execution_count": 6,
   "id": "f4630cfd-6170-4f25-b67d-f3c7fcdae11a",
   "metadata": {},
   "outputs": [
    {
     "name": "stdin",
     "output_type": "stream",
     "text": [
      "Enter any number: 6\n"
     ]
    },
    {
     "name": "stdout",
     "output_type": "stream",
     "text": [
      "6 * 1 = 6\n",
      "6 * 2 = 12\n",
      "6 * 3 = 18\n",
      "6 * 4 = 24\n",
      "6 * 5 = 30\n",
      "6 * 6 = 36\n",
      "6 * 7 = 42\n",
      "6 * 8 = 48\n",
      "6 * 9 = 54\n",
      "6 * 10 = 60\n"
     ]
    }
   ],
   "source": [
    "n=int(input(\"Enter any number:\"))\n",
    "for i in range(1,11):\n",
    "    print(f'{n} * {i} = {n*i}')"
   ]
  },
  {
   "cell_type": "markdown",
   "id": "03b94844-5793-44b3-82aa-bc6e11495ca4",
   "metadata": {},
   "source": [
    "### 9. Write a Python program to print the first 8 terms of an arithmetic progression starting with 3 and having a common difference of 4. \n"
   ]
  },
  {
   "cell_type": "code",
   "execution_count": 15,
   "id": "5b2177be-ef88-411a-93d5-0c9cd1511028",
   "metadata": {},
   "outputs": [
    {
     "name": "stdout",
     "output_type": "stream",
     "text": [
      "3\n",
      "7\n",
      "11\n",
      "15\n",
      "19\n",
      "23\n",
      "27\n",
      "31\n"
     ]
    }
   ],
   "source": [
    "for n in range(3,35,4):\n",
    "    print(n)"
   ]
  },
  {
   "cell_type": "markdown",
   "id": "9edf6fa6-0587-4f44-903e-054ca8cc50e8",
   "metadata": {},
   "source": [
    "### 10. Write a Python program to print the first 6 terms of a geometric sequence starting with 2 and having a common ratio of 3"
   ]
  },
  {
   "cell_type": "code",
   "execution_count": 2,
   "id": "0e7d789b-dd7e-403d-b973-fd49aea09966",
   "metadata": {},
   "outputs": [
    {
     "name": "stdout",
     "output_type": "stream",
     "text": [
      "2\n",
      "6\n",
      "18\n",
      "54\n",
      "162\n",
      "486\n"
     ]
    }
   ],
   "source": [
    "\n",
    "first_term = 2\n",
    "common_ratio = 3\n",
    "num_terms = 6\n",
    "\n",
    "for i in range(num_terms):\n",
    "    term = first_term * (common_ratio ** i)\n",
    "    print(term)\n"
   ]
  },
  {
   "cell_type": "markdown",
   "id": "2244ca8c-7004-4d3b-b74c-fdcfa8b52fe7",
   "metadata": {},
   "source": [
    "### 11. Write a program that asks the user for a positive integer value. The program should calculate the sum of all the integers from 1 up to the number entered. For example, if the user enters 20, the loop will find the sum of 1, 2, 3, 4, ... 20."
   ]
  },
  {
   "cell_type": "code",
   "execution_count": 40,
   "id": "255d4c3b-4259-4af1-8431-7908e08aa088",
   "metadata": {},
   "outputs": [
    {
     "name": "stdin",
     "output_type": "stream",
     "text": [
      "Enter any number: 20\n"
     ]
    },
    {
     "name": "stdout",
     "output_type": "stream",
     "text": [
      "210\n"
     ]
    }
   ],
   "source": [
    "n=int(input(\"Enter any number:\"))\n",
    "i=0\n",
    "for x in range(1,n+1):\n",
    "    i+=x\n",
    "print(i)"
   ]
  },
  {
   "cell_type": "markdown",
   "id": "f9d0de14-105f-4cf0-bc5c-c003c2c0b37c",
   "metadata": {},
   "source": [
    "### 12. write a program that takes a positive integer N as input and calculates the sum of the reciprocals of all numbers from 1 up to N. The program should display the final sum. "
   ]
  },
  {
   "cell_type": "code",
   "execution_count": 9,
   "id": "49b5575c-45b9-4aeb-a963-5c0fcadc45cd",
   "metadata": {},
   "outputs": [
    {
     "name": "stdin",
     "output_type": "stream",
     "text": [
      "Enter a positive integer N:  5\n"
     ]
    },
    {
     "name": "stdout",
     "output_type": "stream",
     "text": [
      "2.283333333333333\n"
     ]
    }
   ],
   "source": [
    "N = int(input(\"Enter a positive integer N: \"))\n",
    "sum_reciprocals = 0\n",
    "\n",
    "for i in range(1, N+1):\n",
    "    sum_reciprocals += 1/i\n",
    "print(sum_reciprocals)\n"
   ]
  },
  {
   "cell_type": "markdown",
   "id": "69841303-ba0f-46f0-92ef-9af777c75493",
   "metadata": {},
   "source": [
    "### 13. Write a program that prompts the user to enter a number and repeats this process 5 times. The program should accumulate the numbers entered and then display the final running total. \n"
   ]
  },
  {
   "cell_type": "code",
   "execution_count": 55,
   "id": "d09dd929-3009-4931-9531-c069ad3ade61",
   "metadata": {},
   "outputs": [
    {
     "name": "stdin",
     "output_type": "stream",
     "text": [
      "Enter any number: 5\n",
      "Enter any number: 5\n",
      "Enter any number: 5\n",
      "Enter any number: 5\n",
      "Enter any number: 5\n"
     ]
    },
    {
     "name": "stdout",
     "output_type": "stream",
     "text": [
      "25\n"
     ]
    }
   ],
   "source": [
    "i=0\n",
    "for x in range(1,6):\n",
    "    n=int(input(\"Enter any number:\"))\n",
    "    i+=n\n",
    "print(i)"
   ]
  },
  {
   "cell_type": "markdown",
   "id": "71f3b5ad-93d6-445b-b485-3e7df1130177",
   "metadata": {},
   "source": [
    "### 14. Write a program that prompts the user to enter a positive integer and calculates its factorial. The factorial of a positive integer 'n' is denoted as 'n!' and is calculated by multiplying all the integers from 1 to 'n' together. For example, the factorial of 5 (denoted as 5!) is calculated as 1 x 2 x 3 x 4 x 5."
   ]
  },
  {
   "cell_type": "code",
   "execution_count": 70,
   "id": "fa6d2205-f86a-4f58-9b17-839ebff77f1e",
   "metadata": {},
   "outputs": [
    {
     "name": "stdin",
     "output_type": "stream",
     "text": [
      "Enter any number: 5\n"
     ]
    },
    {
     "name": "stdout",
     "output_type": "stream",
     "text": [
      "120\n"
     ]
    }
   ],
   "source": [
    "n=int(input(\"Enter any number:\"))\n",
    "i=1\n",
    "if n == 0:\n",
    "    print(f\"Factorial of {n} does not exist!\")\n",
    "elif n < 0:\n",
    "    print(f\"Factorial of {n} does not exist!\")\n",
    "\n",
    "elif n == 1:\n",
    "    print(f\"Factorial of {n} does not exist!\")\n",
    "else:\n",
    "    for x in range(1,n+1):\n",
    "        i*=x\n",
    "    print(i)"
   ]
  },
  {
   "cell_type": "markdown",
   "id": "b4d27a62-2347-4013-9582-526ecdb3a89d",
   "metadata": {},
   "source": [
    "### 15. Write a Python program that prompts the user to enter a base number and an exponent, and then calculates the power of the base to the exponent. The program should not use the exponentiation operator (**) or the math.pow() function. The program should handle both positive and negative exponents. "
   ]
  },
  {
   "cell_type": "code",
   "execution_count": 11,
   "id": "28578611-cfa3-4b49-8ec9-41914bb4f23f",
   "metadata": {},
   "outputs": [
    {
     "name": "stdin",
     "output_type": "stream",
     "text": [
      "Enter any base number: 4\n",
      "Enter any exponent number: 2\n"
     ]
    },
    {
     "name": "stdout",
     "output_type": "stream",
     "text": [
      "16\n"
     ]
    }
   ],
   "source": [
    "base=int(input(\"Enter any base number:\"))\n",
    "exponent=int(input(\"Enter any exponent number:\"))\n",
    "result = 1\n",
    "if exponent < 0:\n",
    "    base = 1 / base\n",
    "    exponent = -exponent\n",
    "\n",
    "for i in range(exponent):\n",
    "    result *= base\n",
    "\n",
    "print(result)\n"
   ]
  },
  {
   "cell_type": "code",
   "execution_count": null,
   "id": "0064eb13-5941-4869-b5a7-48e59b6ccd69",
   "metadata": {},
   "outputs": [],
   "source": []
  }
 ],
 "metadata": {
  "kernelspec": {
   "display_name": "Python 3 (ipykernel)",
   "language": "python",
   "name": "python3"
  },
  "language_info": {
   "codemirror_mode": {
    "name": "ipython",
    "version": 3
   },
   "file_extension": ".py",
   "mimetype": "text/x-python",
   "name": "python",
   "nbconvert_exporter": "python",
   "pygments_lexer": "ipython3",
   "version": "3.12.7"
  }
 },
 "nbformat": 4,
 "nbformat_minor": 5
}
