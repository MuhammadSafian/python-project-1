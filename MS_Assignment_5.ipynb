{
 "cells": [
  {
   "cell_type": "markdown",
   "id": "77164a0b-4d44-4dc7-bc0b-2757834d99de",
   "metadata": {},
   "source": [
    "# Conditional Structures "
   ]
  },
  {
   "cell_type": "markdown",
   "id": "96b01093-cd57-4a20-9574-b5a7ccf90c18",
   "metadata": {},
   "source": [
    "### 1.\tWrite a program that prompts the user to input a number and display if the number is even or odd.  "
   ]
  },
  {
   "cell_type": "code",
   "execution_count": 10,
   "id": "cb774194-2e1e-4ff9-b5ec-291d53ede09e",
   "metadata": {},
   "outputs": [
    {
     "name": "stdin",
     "output_type": "stream",
     "text": [
      "Enter any integer: 5\n"
     ]
    },
    {
     "name": "stdout",
     "output_type": "stream",
     "text": [
      "Odd Number\n"
     ]
    }
   ],
   "source": [
    "user_input=int(input(\"Enter any integer:\"))\n",
    "if user_input % 2 == 0:\n",
    "               print(\"Even Number\")\n",
    "else:\n",
    "    print(\"Odd Number\")"
   ]
  },
  {
   "cell_type": "markdown",
   "id": "4a15bdb1-4c7d-45d9-a038-c7c802d451f9",
   "metadata": {},
   "source": [
    "### 2.\tWrite a Python program that takes an age as input and determines whether a person is eligible to vote. If the age is 18 or above, print \"You are eligible to vote.\" Otherwise, print \"You are not eligible to vote yet.\".  "
   ]
  },
  {
   "cell_type": "code",
   "execution_count": 19,
   "id": "1496eab9-b50f-4f0b-84cd-80302b9aa060",
   "metadata": {},
   "outputs": [
    {
     "name": "stdin",
     "output_type": "stream",
     "text": [
      "Enter your age: 18\n"
     ]
    },
    {
     "name": "stdout",
     "output_type": "stream",
     "text": [
      "You are eligible for vote!\n"
     ]
    }
   ],
   "source": [
    "age=float(input(\"Enter your age:\"))\n",
    "if age >= 18:\n",
    "    print(\"You are eligible for vote!\")\n",
    "else:\n",
    "    print(\"You are not eligible for vote!\")"
   ]
  },
  {
   "cell_type": "markdown",
   "id": "41b22bc1-5aab-4628-8980-90ac54c79300",
   "metadata": {},
   "source": [
    "### 3.\tWrite a program that prompts the user to input two integers and outputs the largest.  "
   ]
  },
  {
   "cell_type": "code",
   "execution_count": 15,
   "id": "ade86fbe-dd40-4c27-9985-f1ca07e02be4",
   "metadata": {},
   "outputs": [
    {
     "name": "stdin",
     "output_type": "stream",
     "text": [
      "Enter integer 1: 1\n",
      "Enter integer 2: 2\n"
     ]
    },
    {
     "name": "stdout",
     "output_type": "stream",
     "text": [
      "integer 2 is greater than integer 1\n"
     ]
    }
   ],
   "source": [
    "input_1=int(input(\"Enter integer 1:\"))\n",
    "input_2=int(input(\"Enter integer 2:\"))\n",
    "if input_1 > input_2:\n",
    "    print(\"integer 1 is greater than integer 2\")\n",
    "elif input_2 > input_1:\n",
    "    print(\"integer 2 is greater than integer 1\")\n",
    "else:\n",
    "    print(\"both numders are equal\")"
   ]
  },
  {
   "cell_type": "markdown",
   "id": "da0b4064-6d2a-40ee-8b51-aa3df9b24b89",
   "metadata": {},
   "source": [
    "### 4.\tWrite a program that prompts the user to enter a number and determines whether it is positive, negative, or zero. The program should print \"Positive\" if the number is greater than 0, \"Negative\" if the number is less than 0, and \"Zero\" if the number is 0.  "
   ]
  },
  {
   "cell_type": "code",
   "execution_count": 32,
   "id": "e7a8a386-9b5e-4781-a67e-0b29857a3b74",
   "metadata": {},
   "outputs": [
    {
     "name": "stdin",
     "output_type": "stream",
     "text": [
      "Enter any number: 0\n"
     ]
    },
    {
     "name": "stdout",
     "output_type": "stream",
     "text": [
      "The number is zero!\n"
     ]
    }
   ],
   "source": [
    "input_1=float(input(\"Enter any number:\"))\n",
    "if input_1 > 0:\n",
    "    print(\"The number is positive!\")\n",
    "elif input_1 == 0:\n",
    "    print(\"The number is zero!\")\n",
    "else:\n",
    "    print(\"The number is negetive!\")"
   ]
  },
  {
   "cell_type": "markdown",
   "id": "91943dd7-ea90-465a-892f-2bd07bf85eef",
   "metadata": {},
   "source": [
    "### 5.\tWrite a program that prompts the user to enter their age and prints the corresponding age group. The program should use the following age groups: \n",
    "0-12:   \tChild \n",
    "13-19:   \tTeenager \n",
    "20-59:   \tAdult \n",
    "60 and above:  Senior Citizen   \n"
   ]
  },
  {
   "cell_type": "code",
   "execution_count": 41,
   "id": "cc210b15-903a-4ab3-9e7e-593673defcba",
   "metadata": {},
   "outputs": [
    {
     "name": "stdin",
     "output_type": "stream",
     "text": [
      "Enter your age: 15\n"
     ]
    },
    {
     "name": "stdout",
     "output_type": "stream",
     "text": [
      "Teenager!\n"
     ]
    }
   ],
   "source": [
    "age=float(input(\"Enter your age:\"))\n",
    "if 0 < age <= 12:\n",
    "    print(\"Child!\")\n",
    "elif 13 < age <= 19:\n",
    "    print(\"Teenager!\")\n",
    "elif 20 < age <= 59:\n",
    "    print(\"Adult!\")\n",
    "else:\n",
    "    print(\"Senior Citizen!\")"
   ]
  },
  {
   "cell_type": "markdown",
   "id": "9eb681c9-9432-4bfa-aaa5-5d87ce28a915",
   "metadata": {},
   "source": [
    "### 6.\tWrite a program that prompts the user to input a number from 1 to 7. The program should display the corresponding day for the given number. For example, if the user types 1, the output should be Sunday. If the user types 7, the output should be Saturday. If the number is not between 1 to 7 user should get error message as shown in sample output.   "
   ]
  },
  {
   "cell_type": "code",
   "execution_count": 48,
   "id": "e42a6473-b1a7-473e-9de8-9a76e58d70dc",
   "metadata": {},
   "outputs": [
    {
     "name": "stdin",
     "output_type": "stream",
     "text": [
      "Enter integer (1 to 7) 1\n"
     ]
    },
    {
     "name": "stdout",
     "output_type": "stream",
     "text": [
      "Sunday\n"
     ]
    }
   ],
   "source": [
    "inp=int(input(\"Enter integer (1 to 7)\"))\n",
    "if inp == 1:\n",
    "    print(\"Sunday\")\n",
    "elif inp == 2:\n",
    "    print(\"Monday\")    \n",
    "elif inp == 3:\n",
    "    print(\"Tuesday\")\n",
    "elif inp == 4:\n",
    "    print(\"Wednesday\")\n",
    "elif inp == 5:\n",
    "    print(\"Thursday\")\n",
    "elif inp == 6:\n",
    "    print(\"Friday\")\n",
    "elif inp == 7:\n",
    "    print(\"Saturday\")\n",
    "else:\n",
    "    print(f\"Please enter a numder between 1 to 7:{inp}\")"
   ]
  },
  {
   "cell_type": "markdown",
   "id": "3d2d7317-dd53-4ba8-a82a-3b374b5cbca0",
   "metadata": {},
   "source": [
    "### 7.\tWrite a program that prompts the user to enter their weight (in kilograms) and height (in meters). The program should calculate the Body Mass Index (BMI) using the formula: BMI = weight / (height * height). The program should then classify the BMI into one of the following categories: \n",
    "less than 18.5 - Underweight \t \t \n",
    "BMI between 18.5 and 24.9 - Normal weight  \t BMI between 25 and 29.9 - Overweight \t \t \n",
    "BMI 30 or greater - Obesity  \n"
   ]
  },
  {
   "cell_type": "code",
   "execution_count": 61,
   "id": "f443e8fe-4eac-4e4b-b1df-cb7cb5de0821",
   "metadata": {},
   "outputs": [
    {
     "name": "stdin",
     "output_type": "stream",
     "text": [
      "Enter weight in kg: 140\n",
      "Enter height in meters: 6\n"
     ]
    },
    {
     "name": "stdout",
     "output_type": "stream",
     "text": [
      " Under weight BMI! \n"
     ]
    }
   ],
   "source": [
    "weight=float(input(\"Enter weight in kg:\"))\n",
    "height=float(input(\"Enter height in meters:\"))\n",
    "BMI=weight/(height*height)\n",
    "if BMI < 18.5:\n",
    "    print(\" Under weight BMI! \")\n",
    "elif 18.5 < BMI < 24.9:\n",
    "    print(\" Normal weight BMI! \")\n",
    "elif 25 < BMI < 29.9:\n",
    "    print(\" Over weight BMI! \")\n",
    "else:\n",
    "    print(\" Obesity BMI! \")    \n"
   ]
  },
  {
   "cell_type": "markdown",
   "id": "e72ce0a7-43d3-4e67-8c3e-510664bee2d7",
   "metadata": {},
   "source": [
    "### 8.\tThe marks obtained by a student in 3 different subjects are input by the user. Your program should calculate the average of subjects and display the grade. The student gets a grade as per the following rules: \n",
    "Average Grade \n",
    "90-100 A ||\n",
    "80-89 B ||\n",
    "70-79 C ||\n",
    "60-69 D ||\n",
    "0-59 F  \n"
   ]
  },
  {
   "cell_type": "code",
   "execution_count": 77,
   "id": "e1a4a96c-0be2-4cdd-853d-d7552d62e1ce",
   "metadata": {},
   "outputs": [
    {
     "name": "stdin",
     "output_type": "stream",
     "text": [
      "Enter sub_1 marks out of 100: 67\n",
      "Enter sub_2 marks out of 100: 89\n",
      "Enter sub_3 marks out of 100: 87\n"
     ]
    },
    {
     "name": "stdout",
     "output_type": "stream",
     "text": [
      "You got B grade!\n"
     ]
    },
    {
     "data": {
      "text/plain": [
       "81.0"
      ]
     },
     "execution_count": 77,
     "metadata": {},
     "output_type": "execute_result"
    }
   ],
   "source": [
    "sub_1=float(input(\"Enter sub_1 marks out of 100:\"))\n",
    "sub_2=float(input(\"Enter sub_2 marks out of 100:\"))\n",
    "sub_3=float(input(\"Enter sub_3 marks out of 100:\"))\n",
    "avg_marks=(sub_1 + sub_2 + sub_3)/3\n",
    "if avg_marks >= 90:\n",
    "    print(\"You got A grade!\")\n",
    "elif 80 < avg_marks < 90:\n",
    "    print(\"You got B grade!\")\n",
    "elif 70 < avg_marks < 80:\n",
    "    print(\"You got C grade!\")\n",
    "elif 60 < avg_marks < 70:\n",
    "    print(\"You got D grade!\")\n",
    "else:\n",
    "    print(\"You are fail!\")\n",
    "avg_marks"
   ]
  },
  {
   "cell_type": "markdown",
   "id": "46b1ea2f-b546-45e7-a172-9ec794901a70",
   "metadata": {},
   "source": [
    "### 9.\tThe roots of the quadratic equation ax2 + bx + c = 0, a ≠ 0 are given by the following formula: In this formula, the term b2 - 4ac is called the discriminant. If b2 - 4ac = 0, then the equation has two equal roots. If b2 - 4ac > 0, the equation has two real roots. If b2 - 4ac < 0, the equation has two complex roots. Write a program that prompts the user to input the value of a (the coefficient of x2), b (the coefficient of x), and c (the constant term) and outputs the roots of the quadratic equation.   \n"
   ]
  },
  {
   "cell_type": "code",
   "execution_count": 25,
   "id": "a9d5e272-64f3-4e22-8134-36918ff82d54",
   "metadata": {},
   "outputs": [
    {
     "name": "stdin",
     "output_type": "stream",
     "text": [
      "Enter value a: 2\n",
      "Enter value a: 5\n",
      "Enter value a: 1\n"
     ]
    },
    {
     "name": "stdout",
     "output_type": "stream",
     "text": [
      "The equation has two real roots\n",
      "              Root_1: -20.615528128088304\n",
      "              Root_2: 20.615528128088304\n"
     ]
    }
   ],
   "source": [
    "a=int(float(input(\"Enter value a:\")))\n",
    "b=int(float(input(\"Enter value a:\")))\n",
    "c=int(float(input(\"Enter value a:\")))\n",
    "\n",
    "dis=b**2 - (4*a*c)\n",
    "if dis == 0:\n",
    "    root_1=-b * (dis**0.5) / 2*a\n",
    "    root_2=b * (dis**0.5) / 2*a\n",
    "    print(f\"\"\"The equation has two equal roots\n",
    "              Root_1: {root_1}\n",
    "              Root_2: {root_2}\"\"\")\n",
    "elif dis > 0:\n",
    "    root_1=-b * (dis**0.5) / 2*a\n",
    "    root_2=b * (dis**0.5) / 2*a\n",
    "    print(f\"\"\"The equation has two real roots\n",
    "              Root_1: {root_1}\n",
    "              Root_2: {root_2}\"\"\")\n",
    "else:\n",
    "    real_part=-b / (2*a)\n",
    "    img_part= (dis)**0.5 / (2*a)\n",
    "    print(f\"\"\"The equation has two complex roots\n",
    "              Root_1: {real_part} + {img_part}i\n",
    "              Root_2: {real_part} - {img_part}i\"\"\")\n",
    "    "
   ]
  },
  {
   "cell_type": "markdown",
   "id": "4e2e77dd-0d5f-44ab-a0dd-d6a3e6645482",
   "metadata": {},
   "source": [
    "### 10. Write a program that prompts the user to enter three numbers and sorts them in ascending order. The program should print the sorted numbers. "
   ]
  },
  {
   "cell_type": "code",
   "execution_count": 27,
   "id": "ef921a14-af5e-44bf-a861-e4e3d13e71dc",
   "metadata": {},
   "outputs": [
    {
     "name": "stdin",
     "output_type": "stream",
     "text": [
      "Enter first number:  3\n",
      "Enter second number:  21\n",
      "Enter third number:  1\n"
     ]
    },
    {
     "name": "stdout",
     "output_type": "stream",
     "text": [
      "Sorted numbers: 1.0, 3.0, 21.0\n"
     ]
    }
   ],
   "source": [
    "num1 = float(input(\"Enter first number: \"))\n",
    "num2 = float(input(\"Enter second number: \"))\n",
    "num3 = float(input(\"Enter third number: \"))\n",
    "\n",
    "if num1 <= num2 and num1 <= num3:\n",
    "    if num2 <= num3:\n",
    "        print(f\"Sorted numbers: {num1}, {num2}, {num3}\")\n",
    "    else:\n",
    "        print(f\"Sorted numbers: {num1}, {num3}, {num2}\")\n",
    "elif num2 <= num1 and num2 <= num3:\n",
    "    if num1 <= num3:\n",
    "        print(f\"Sorted numbers: {num2}, {num1}, {num3}\")\n",
    "    else:\n",
    "        print(f\"Sorted numbers: {num2}, {num3}, {num1}\")\n",
    "else:\n",
    "    if num1 <= num2:\n",
    "        print(f\"Sorted numbers: {num3}, {num1}, {num2}\")\n",
    "    else:\n",
    "        print(f\"Sorted numbers: {num3}, {num2}, {num1}\")\n"
   ]
  },
  {
   "cell_type": "markdown",
   "id": "ff7ba7f2-c21e-410f-86ed-43e20708493d",
   "metadata": {},
   "source": [
    "### 11. Write a program that prompts the user to input three integers and outputs the largest. \n"
   ]
  },
  {
   "cell_type": "code",
   "execution_count": 19,
   "id": "c53e28c2-2f12-4f84-9d15-c9cf3dc83052",
   "metadata": {},
   "outputs": [
    {
     "name": "stdin",
     "output_type": "stream",
     "text": [
      "Enter integer 1: 3\n",
      "Enter integer 2: 2\n",
      "Enter integer 3: 1\n"
     ]
    },
    {
     "name": "stdout",
     "output_type": "stream",
     "text": [
      "integer 1 is greater than integer 2 and integer 3\n"
     ]
    }
   ],
   "source": [
    "input_1=int(input(\"Enter integer 1:\"))\n",
    "input_2=int(input(\"Enter integer 2:\"))\n",
    "input_3=int(input(\"Enter integer 3:\"))\n",
    "if input_1 > input_2 and input_3:\n",
    "    print(\"integer 1 is greater than integer 2 and integer 3\")\n",
    "elif input_2 > input_1 and input_3:\n",
    "    print(\"integer 2 is greater than integer 1 and integer 3\")\n",
    "elif input_3 > input_1 and input_2:\n",
    "    print(\"integer 2 is greater than integer 1 and integer 3\")\n",
    "else:\n",
    "    print(\"All integers are same.\")"
   ]
  },
  {
   "cell_type": "markdown",
   "id": "52a78292-5c6f-4d74-a3b4-1cf68d3ed868",
   "metadata": {},
   "source": [
    "### 12. Write a program that prompts the user to input a character and determine the character is vowel or consonant."
   ]
  },
  {
   "cell_type": "code",
   "execution_count": 13,
   "id": "3b2d2f3d-32f5-42c2-938a-a55c34168545",
   "metadata": {},
   "outputs": [
    {
     "name": "stdin",
     "output_type": "stream",
     "text": [
      "Enter any character: a\n"
     ]
    },
    {
     "name": "stdout",
     "output_type": "stream",
     "text": [
      "vowel\n"
     ]
    }
   ],
   "source": [
    "char=str(input(\"Enter any character:\"))\n",
    "vowels=[\"a\",\"e\",\"i\",\"o\",\"u\"]\n",
    "if  char in vowels:\n",
    "    print(\"vowel\")\n",
    "else:\n",
    "    print(\"Constrant\")"
   ]
  },
  {
   "cell_type": "markdown",
   "id": "6684d811-425b-41cf-83ab-b079ca6600bd",
   "metadata": {},
   "source": [
    "### 13. Write a program that prompts the user to input a year and determine whether the year is a leap year or not. Leap Years are any year that can be evenly divided by 4. A year that is evenly divisible by 100 is a leap year only if it is also evenly divisible by 400. Example: 1992 Leap Year || 2000 Leap Year || 1900 NOT a Leap Year || 1995 NOT a Leap Year "
   ]
  },
  {
   "cell_type": "code",
   "execution_count": 58,
   "id": "bd10851e-8d71-4ca2-92cf-08340616e738",
   "metadata": {},
   "outputs": [
    {
     "name": "stdin",
     "output_type": "stream",
     "text": [
      "Enter any year: 2000\n"
     ]
    },
    {
     "name": "stdout",
     "output_type": "stream",
     "text": [
      "It is a leap year!\n"
     ]
    }
   ],
   "source": [
    "year=int(input(\"Enter any year:\"))\n",
    "if year % 4 == 0:\n",
    "    if year % 100 == 0:\n",
    "        if year % 400 == 0:\n",
    "            print(\"It is a leap year!\")\n",
    "        else:\n",
    "            print(\"It is not a leap year!\") \n",
    "    else:\n",
    "        print(\"It is not a leap year!\")\n",
    "else:\n",
    "    print(\"It is not a leap year!\") "
   ]
  },
  {
   "cell_type": "markdown",
   "id": "416b658d-853f-4f38-adbb-c78e6c28b5ef",
   "metadata": {},
   "source": [
    "### 14. Write a program that prompts the user to input number of calls and calculate the monthly telephone bills as per the following rule: Minimum Rs. 200 for up to 100 calls. Plus Rs. 0.60 per call for next 50 calls. Plus Rs. 0.50 per call for next 50 calls. Plus Rs. 0.40 per call for any call beyond 200 calls."
   ]
  },
  {
   "cell_type": "code",
   "execution_count": 49,
   "id": "c1a5ce76-5592-4667-97b1-aa1b91773a69",
   "metadata": {},
   "outputs": [
    {
     "name": "stdin",
     "output_type": "stream",
     "text": [
      "Enter no of calls: 201\n"
     ]
    },
    {
     "name": "stdout",
     "output_type": "stream",
     "text": [
      "Your bill is 300.5\n"
     ]
    }
   ],
   "source": [
    "calls=int(input(\"Enter no of calls:\"))\n",
    "bill=200\n",
    "if calls <= 100:\n",
    "    print(f\"Your bill is {bill}\")\n",
    "elif 100 < calls <= 150:\n",
    "    charge=(calls-100)*0.60 \n",
    "    print(f\"Your bill is {bill + charge}\")\n",
    "elif 150 < calls <= 200:\n",
    "    charge=(calls-100)*0.50 \n",
    "    print(f\"Your bill is {bill + charge}\")\n",
    "else:\n",
    "    charge=(calls)*0.50 \n",
    "    print(f\"Your bill is {bill + charge}\")"
   ]
  },
  {
   "cell_type": "code",
   "execution_count": null,
   "id": "49ea9e19-785b-44ea-8c9c-c0b46fb53f62",
   "metadata": {},
   "outputs": [],
   "source": []
  }
 ],
 "metadata": {
  "kernelspec": {
   "display_name": "Python 3 (ipykernel)",
   "language": "python",
   "name": "python3"
  },
  "language_info": {
   "codemirror_mode": {
    "name": "ipython",
    "version": 3
   },
   "file_extension": ".py",
   "mimetype": "text/x-python",
   "name": "python",
   "nbconvert_exporter": "python",
   "pygments_lexer": "ipython3",
   "version": "3.12.7"
  }
 },
 "nbformat": 4,
 "nbformat_minor": 5
}
