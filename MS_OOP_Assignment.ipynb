{
 "cells": [
  {
   "cell_type": "markdown",
   "id": "72522a0a-be87-4828-ae29-bb5e991217b0",
   "metadata": {},
   "source": [
    "## 1. Write a Python program to create a class called \"Person\" with properties for name, age and country. Include a method to display the person's details. Create two instances of the 'Person' class and display their details."
   ]
  },
  {
   "cell_type": "code",
   "execution_count": 19,
   "id": "74cf6bf6-5d17-488c-87cd-d983cf29d291",
   "metadata": {},
   "outputs": [],
   "source": [
    "class Person():\n",
    "    def __init__(self,name,age,country):\n",
    "        self.name = name\n",
    "        self.age = age\n",
    "        self.country = country\n",
    "    def person_details(self):\n",
    "        return f\"\"\"Name : {self.name}\n",
    "Age  : {self.age}\n",
    "Country : {self.country}\"\"\""
   ]
  },
  {
   "cell_type": "code",
   "execution_count": 21,
   "id": "b78f73db-3105-4b06-9bab-162ec6869d47",
   "metadata": {},
   "outputs": [],
   "source": [
    "p1 = Person('Ali',18,'Pakistan')"
   ]
  },
  {
   "cell_type": "code",
   "execution_count": 23,
   "id": "41cfa1e8-b149-4a16-8a5c-4e413f642ae0",
   "metadata": {},
   "outputs": [
    {
     "name": "stdout",
     "output_type": "stream",
     "text": [
      "Name : Ali\n",
      "Age  : 18\n",
      "Country : Pakistan\n"
     ]
    }
   ],
   "source": [
    "print(p1.person_details())"
   ]
  },
  {
   "cell_type": "code",
   "execution_count": 25,
   "id": "0afbbaaa-d5be-4c45-97f2-1b1680952a23",
   "metadata": {},
   "outputs": [],
   "source": [
    "p2 = Person('Ahmed',20,'Pakistan')"
   ]
  },
  {
   "cell_type": "code",
   "execution_count": 27,
   "id": "c0469e9c-9801-476e-b9ff-4b559e438fcc",
   "metadata": {},
   "outputs": [
    {
     "name": "stdout",
     "output_type": "stream",
     "text": [
      "Name : Ahmed\n",
      "Age  : 20\n",
      "Country : Pakistan\n"
     ]
    }
   ],
   "source": [
    "print(p2.person_details())"
   ]
  },
  {
   "cell_type": "markdown",
   "id": "b550aa41-b339-4705-87dc-bf4d87c1b41a",
   "metadata": {},
   "source": [
    "## 2. Write a Python program to create a class called 'Rectangle' with properties for width and height. Include two methods to calculate rectangle area and perimeter. Create an instance of the 'Rectangle' class and calculate its area and perimeter. "
   ]
  },
  {
   "cell_type": "code",
   "execution_count": 30,
   "id": "04169e09-5072-4486-861d-8eb39921222b",
   "metadata": {},
   "outputs": [],
   "source": [
    "class Rectangle():\n",
    "    def __init__(self,width,height):\n",
    "        self.width = width\n",
    "        self.height = height\n",
    "    def Area(self):\n",
    "        self.area = self.width * self.height\n",
    "        return f\"Area of Rectangle : {self.area}\"\n",
    "    def Perimeter(self):\n",
    "        self.perimeter = None\n",
    "        return f\"Perimeter of Rectangle : {self.perimeter}\"\n",
    "        "
   ]
  },
  {
   "cell_type": "code",
   "execution_count": 32,
   "id": "8b07b077-5c0d-4939-82d5-ba7f9a2667db",
   "metadata": {},
   "outputs": [],
   "source": [
    "r1 = Rectangle(10,20)"
   ]
  },
  {
   "cell_type": "code",
   "execution_count": 34,
   "id": "c226ce8b-e8f3-4cf9-9ca3-7da2e614920e",
   "metadata": {},
   "outputs": [
    {
     "data": {
      "text/plain": [
       "'Area of Rectangle : 200'"
      ]
     },
     "execution_count": 34,
     "metadata": {},
     "output_type": "execute_result"
    }
   ],
   "source": [
    "r1.Area()"
   ]
  },
  {
   "cell_type": "code",
   "execution_count": 36,
   "id": "84ca3419-6daa-4ac5-846e-1d917e775c1e",
   "metadata": {},
   "outputs": [
    {
     "data": {
      "text/plain": [
       "'Perimeter of Rectangle : None'"
      ]
     },
     "execution_count": 36,
     "metadata": {},
     "output_type": "execute_result"
    }
   ],
   "source": [
    "r1.Perimeter()"
   ]
  },
  {
   "cell_type": "markdown",
   "id": "5920d1bc-9792-467f-a11e-b82f44b1b85c",
   "metadata": {},
   "source": [
    "## 3. Write a Python program that creates a class called 'Vehicle' with properties for make, model, and year. Include a method to display vehicle details. Create a subclass called 'Car' that inherits from the 'Vehicle' class and includes an additional property for the number of doors. Override the display method to include the number of doors. "
   ]
  },
  {
   "cell_type": "code",
   "execution_count": 143,
   "id": "5baa9075-2522-4310-884c-85bd11af9797",
   "metadata": {},
   "outputs": [],
   "source": [
    "class Vehicle():\n",
    "    def __init__(self,make,model,year):\n",
    "        self.make = make\n",
    "        self.model = model\n",
    "        self.year = year\n",
    "    def vehicle_details(self):\n",
    "        print (f\"\"\"\n",
    "                  Make : {self.make}\n",
    "                  Model : {self.model}\n",
    "                  Year : {self.year}\"\"\")\n",
    "\n",
    "class Car(Vehicle):\n",
    "    def __init__(self,make,model,year,seats):\n",
    "        super().__init__(make,model,year)\n",
    "        self.seats = seats\n",
    "    def vehicle_details(self):\n",
    "        super().vehicle_details()\n",
    "        print (f\"\"\"                  Seats : {self.seats}\"\"\")\n",
    "    "
   ]
  },
  {
   "cell_type": "code",
   "execution_count": 145,
   "id": "16abda8d-1b97-40ac-954e-1da0d3c62c43",
   "metadata": {},
   "outputs": [],
   "source": [
    "c1 = Car(\"Toyota\",\"Civic\",2024,4)"
   ]
  },
  {
   "cell_type": "code",
   "execution_count": 147,
   "id": "4845484d-c168-4422-9df0-b0c2ea07fe97",
   "metadata": {},
   "outputs": [
    {
     "name": "stdout",
     "output_type": "stream",
     "text": [
      "\n",
      "                  Make : Toyota\n",
      "                  Model : Civic\n",
      "                  Year : 2024\n",
      "                  Seats : 4\n"
     ]
    }
   ],
   "source": [
    "c1.vehicle_details()"
   ]
  },
  {
   "cell_type": "code",
   "execution_count": 149,
   "id": "5a067e3d-ccef-4a04-b641-3b3d7766a588",
   "metadata": {},
   "outputs": [],
   "source": [
    "v1 = Vehicle(\"Toyota\",\"Civic\",2024)"
   ]
  },
  {
   "cell_type": "code",
   "execution_count": 151,
   "id": "6e5514d9-29d9-4f6d-84e2-751624d5f8e7",
   "metadata": {},
   "outputs": [
    {
     "name": "stdout",
     "output_type": "stream",
     "text": [
      "\n",
      "                  Make : Toyota\n",
      "                  Model : Civic\n",
      "                  Year : 2024\n"
     ]
    }
   ],
   "source": [
    "v1.vehicle_details()"
   ]
  },
  {
   "cell_type": "markdown",
   "id": "5fa9a1ed-2798-4ab9-bb8c-a0a95682757d",
   "metadata": {},
   "source": [
    "## 4. Write a Python program that creates a class called \"BankAccount\" with properties for account number and balance. Include methods to deposit and withdraw money from the account. Create some instances of the \"BankAccount\" class, deposit some money, and withdraw a portion of it."
   ]
  },
  {
   "cell_type": "code",
   "execution_count": 187,
   "id": "dff04ea1-ef67-4127-9b93-04e2af593d9b",
   "metadata": {},
   "outputs": [],
   "source": [
    "class BankAccount():\n",
    "    def __init__(self,accNo,balance):\n",
    "        self.accNo = accNo\n",
    "        self.balance = float(balance)\n",
    "        self.deposit = 0\n",
    "        self.withdraw = 0\n",
    "    def Account(self):\n",
    "        self.account = {\n",
    "            \"AccountNo\" : self.accNo,\n",
    "            \"Balance\"   : self.balance,\n",
    "            \"Deposit\"   : self.deposit,\n",
    "            \"WithDraw\"  : self.withdraw\n",
    "        }\n",
    "        return self.account\n",
    "    def Deposit(self):\n",
    "        self.dePosit = float(input(\"Enter deposit money:\"))\n",
    "        self.balance += self.dePosit\n",
    "        self.deposit += self.dePosit\n",
    "    def Withdraw(self):\n",
    "        self.withdraw = float(input(\"Enter withdraw money:\"))\n",
    "        self.balance -= self.withdraw\n",
    "    "
   ]
  },
  {
   "cell_type": "code",
   "execution_count": 189,
   "id": "8eadc225-a2db-41d9-ada7-432f274a3124",
   "metadata": {},
   "outputs": [],
   "source": [
    "b1 = BankAccount(123344444532,2000)"
   ]
  },
  {
   "cell_type": "code",
   "execution_count": 191,
   "id": "5197cb01-7b1f-48b7-a0fa-1eb014a52dc3",
   "metadata": {},
   "outputs": [
    {
     "data": {
      "text/plain": [
       "{'AccountNo': 123344444532, 'Balance': 2000.0, 'Deposit': 0, 'WithDraw': 0}"
      ]
     },
     "execution_count": 191,
     "metadata": {},
     "output_type": "execute_result"
    }
   ],
   "source": [
    "b1.Account()"
   ]
  },
  {
   "cell_type": "code",
   "execution_count": 193,
   "id": "5b2021ac-e961-4ef1-8757-4aa0a1dbed7d",
   "metadata": {},
   "outputs": [
    {
     "name": "stdin",
     "output_type": "stream",
     "text": [
      "Enter deposit money: 3000\n"
     ]
    }
   ],
   "source": [
    "b1.Deposit()"
   ]
  },
  {
   "cell_type": "code",
   "execution_count": 195,
   "id": "ef9f0bdc-ab79-419f-8ded-0851e9dabc70",
   "metadata": {},
   "outputs": [
    {
     "data": {
      "text/plain": [
       "{'AccountNo': 123344444532,\n",
       " 'Balance': 5000.0,\n",
       " 'Deposit': 3000.0,\n",
       " 'WithDraw': 0}"
      ]
     },
     "execution_count": 195,
     "metadata": {},
     "output_type": "execute_result"
    }
   ],
   "source": [
    "b1.Account()"
   ]
  },
  {
   "cell_type": "code",
   "execution_count": 197,
   "id": "207eb4d0-d2dd-4db9-891e-16d04fd9821b",
   "metadata": {},
   "outputs": [
    {
     "name": "stdin",
     "output_type": "stream",
     "text": [
      "Enter withdraw money: 2900\n"
     ]
    }
   ],
   "source": [
    "b1.Withdraw()"
   ]
  },
  {
   "cell_type": "code",
   "execution_count": 199,
   "id": "ce64de32-4844-45c0-9c8e-82b2c4f05fa6",
   "metadata": {},
   "outputs": [
    {
     "data": {
      "text/plain": [
       "{'AccountNo': 123344444532,\n",
       " 'Balance': 2100.0,\n",
       " 'Deposit': 3000.0,\n",
       " 'WithDraw': 2900.0}"
      ]
     },
     "execution_count": 199,
     "metadata": {},
     "output_type": "execute_result"
    }
   ],
   "source": [
    "b1.Account()"
   ]
  },
  {
   "cell_type": "markdown",
   "id": "26c8b5e8-1ce6-4b1c-b30d-91381646aa94",
   "metadata": {},
   "source": [
    "## 5. Write a Python program that creates a class called 'Shape' with a method to calculate the area. Create two subclasses, 'Circle' and 'Triangle', that inherit from the 'Shape' class and override the area calculation method. Create an instance of the 'Circle' class and calculate its area. Similarly, do the same for the 'Triangle' class."
   ]
  },
  {
   "cell_type": "code",
   "execution_count": 7,
   "id": "08901259-19c9-49a3-9206-88d5e3f3f5da",
   "metadata": {},
   "outputs": [
    {
     "data": {
      "text/plain": [
       "78.55"
      ]
     },
     "execution_count": 7,
     "metadata": {},
     "output_type": "execute_result"
    }
   ],
   "source": [
    "\n",
    "class Shape():\n",
    "    def area(self):\n",
    "        pass\n",
    "\n",
    "class Circle(Shape):\n",
    "    def __init__(self, radius):\n",
    "        self.radius = radius\n",
    "\n",
    "    def area(self):\n",
    "        return 3.142 * (self.radius ** 2)\n",
    "\n",
    "# Subclass Triangle\n",
    "class Triangle(Shape):\n",
    "    def __init__(self, base, height):\n",
    "        self.base = base\n",
    "        self.height = height\n",
    "\n",
    "    def area(self):\n",
    "        return 0.5 * self.base * self.height\n",
    "\n",
    "\n",
    "circle = Circle(5)\n",
    "circle.area()\n"
   ]
  },
  {
   "cell_type": "code",
   "execution_count": 5,
   "id": "7b4e26cc-20d0-42e1-b172-70a50947ddde",
   "metadata": {},
   "outputs": [
    {
     "data": {
      "text/plain": [
       "25.0"
      ]
     },
     "execution_count": 5,
     "metadata": {},
     "output_type": "execute_result"
    }
   ],
   "source": [
    "triangle = Triangle(10,5)\n",
    "triangle.area()"
   ]
  },
  {
   "cell_type": "markdown",
   "id": "e7e50c77-d66e-497a-a2ee-791a9feac320",
   "metadata": {},
   "source": [
    "## 6. Write a Python program that creates a class called 'Employee' with properties for name and salary. Include a method to calculate annual salary. Create a subclass called 'Manager' that inherits from the 'Employee' class and adds an additional property for department. Override the annual salary calculation method to include bonuses for managers. Create two instances of the 'Manager' class and calculate their annual salary."
   ]
  },
  {
   "cell_type": "code",
   "execution_count": 15,
   "id": "54660b9e-678b-4fcf-9949-00a1d66889b0",
   "metadata": {},
   "outputs": [],
   "source": [
    "class Employee():\n",
    "    def __init__(self,name,salary):\n",
    "        self.name = name\n",
    "        self.salary = float(salary)\n",
    "    def annual_salary(self):\n",
    "        annual = self.salary * 12\n",
    "        return f\"Annual_salary : {annual}\"\n",
    "class Manager(Employee):\n",
    "    def __init__(self,name,salary,department,bonus):\n",
    "        super().__init__(name,salary)\n",
    "        self.department = department\n",
    "        self.bonus = float(bonus)\n",
    "    def annual_salary(self):\n",
    "        self.annual = self.salary * 12\n",
    "        self.bonuses = self.bonus * 12\n",
    "        print(f\"\"\"\n",
    "        Annual_salary : {self.annual}\n",
    "        Annual_bonuses : {self.bonuses}\"\"\")\n",
    "    "
   ]
  },
  {
   "cell_type": "code",
   "execution_count": 17,
   "id": "9ea72665-fc8c-49ff-8117-011b7fd0df47",
   "metadata": {},
   "outputs": [],
   "source": [
    "e1 = Employee('sufyan',30000)"
   ]
  },
  {
   "cell_type": "code",
   "execution_count": 19,
   "id": "19578cd5-e100-4d75-9b43-e135337fe8aa",
   "metadata": {},
   "outputs": [
    {
     "data": {
      "text/plain": [
       "'Annual_salary : 360000.0'"
      ]
     },
     "execution_count": 19,
     "metadata": {},
     "output_type": "execute_result"
    }
   ],
   "source": [
    "e1.annual_salary()"
   ]
  },
  {
   "cell_type": "code",
   "execution_count": 25,
   "id": "71af089b-c10b-42e2-ae7d-6e460688ca95",
   "metadata": {},
   "outputs": [],
   "source": [
    "m1 = Manager('sufyan',45000,'IT','10000')"
   ]
  },
  {
   "cell_type": "code",
   "execution_count": 27,
   "id": "588d9d51-136f-440e-825f-6c43d011895c",
   "metadata": {},
   "outputs": [
    {
     "name": "stdout",
     "output_type": "stream",
     "text": [
      "\n",
      "        Annual_salary : 540000.0\n",
      "        Annual_bonuses : 120000.0\n"
     ]
    }
   ],
   "source": [
    "m1.annual_salary()"
   ]
  },
  {
   "cell_type": "markdown",
   "id": "526b0e09-b6ff-4a72-aa7c-9c2d58a8bb8c",
   "metadata": {},
   "source": [
    "## 7. Write a Python program that creates a class `Book` with properties for title, author, and publication year. Include a method to display book details. Create a subclass called 'Ebook' that inherits from the 'Book' class and includes an additional property for book price. Override the display method to include the book price. Create an instance of the 'Ebook' class and display its details. "
   ]
  },
  {
   "cell_type": "code",
   "execution_count": 111,
   "id": "dd342db4-7d43-4de9-9ff8-d4e5461f8693",
   "metadata": {},
   "outputs": [],
   "source": [
    "class Book():\n",
    "    def __init__(self,title,author,publication_year):\n",
    "        self.title = title\n",
    "        self.author = author\n",
    "        self.publication_year = publication_year\n",
    "    \n",
    "    def book_details(self):\n",
    "        print(f\"\"\"\n",
    "        Title : {self.title}\n",
    "        Author : {self.author}\n",
    "        Publication_Year : {self.publication_year}\"\"\")\n",
    "\n",
    "class Ebook(Book):\n",
    "    def __init__(self,title,author,publication_year,book_price):\n",
    "        super().__init__(title,author,publication_year)\n",
    "        self.book_price = book_price\n",
    "    \n",
    "    def book_details(self):\n",
    "        super().book_details()\n",
    "        print(f\"        Price : {self.book_price}\")\n",
    "        "
   ]
  },
  {
   "cell_type": "code",
   "execution_count": 113,
   "id": "1a865a41-fd3b-4539-a123-2a54c2f0a61e",
   "metadata": {},
   "outputs": [],
   "source": [
    "b1 = Book('Pyhton','sufyan','2025')"
   ]
  },
  {
   "cell_type": "code",
   "execution_count": 115,
   "id": "d0798ffd-da7d-4bcb-b164-c65ec892dfa4",
   "metadata": {},
   "outputs": [
    {
     "name": "stdout",
     "output_type": "stream",
     "text": [
      "\n",
      "        Title : Pyhton\n",
      "        Author : sufyan\n",
      "        Publication_Year : 2025\n"
     ]
    }
   ],
   "source": [
    "b1.book_details()"
   ]
  },
  {
   "cell_type": "code",
   "execution_count": 117,
   "id": "d6fe54ec-9eb8-46c9-aad1-4a82a1cdd777",
   "metadata": {},
   "outputs": [],
   "source": [
    "b2 = Ebook('Pyhton','sufyan',2025,2000)"
   ]
  },
  {
   "cell_type": "code",
   "execution_count": 119,
   "id": "c9899847-a01b-4742-af24-4623f055d740",
   "metadata": {},
   "outputs": [
    {
     "name": "stdout",
     "output_type": "stream",
     "text": [
      "\n",
      "        Title : Pyhton\n",
      "        Author : sufyan\n",
      "        Publication_Year : 2025\n",
      "        Price : 2000\n"
     ]
    }
   ],
   "source": [
    "b2.book_details()"
   ]
  },
  {
   "cell_type": "markdown",
   "id": "aa393844-9d16-4e55-b3e2-8e6f45e53203",
   "metadata": {},
   "source": [
    "## 8. Write a Python program that creates a class called 'Animal' with properties for species and sound. Include a method to make the animal's sound. Create a subclass called 'Dog' that inherits from the 'Animal' class and adds an additional property for color. Override the make sound method to include the dog's color. Create an instance of the 'Dog' class and make it make its sound."
   ]
  },
  {
   "cell_type": "code",
   "execution_count": 12,
   "id": "0a120b32-4d46-4a64-aecc-6561c8dca6f2",
   "metadata": {},
   "outputs": [
    {
     "name": "stdout",
     "output_type": "stream",
     "text": [
      "\n",
      "        Color : brown \n",
      "        Sound : bark \n"
     ]
    }
   ],
   "source": [
    "\n",
    "class Animal():\n",
    "    def __init__(self, species, sound):\n",
    "        self.species = species\n",
    "        self.sound = sound\n",
    "    \n",
    "    def make_sound(self):\n",
    "        print(f\"\"\"\n",
    "        Species :{self.species}\n",
    "        Sound : {self.sound} sound.\"\"\")\n",
    "\n",
    "class Dog(Animal):\n",
    "    def __init__(self, species, sound, color):\n",
    "        super().__init__(species, sound)\n",
    "        self.color = color\n",
    "    \n",
    "    def make_sound(self):\n",
    "        print(f\"\"\"\n",
    "        Color : {self.color} \n",
    "        Sound : {self.sound} \"\"\")\n",
    "\n",
    "dog = Dog(\"dog\",\"bark\",\"brown\")\n",
    "dog.make_sound()\n"
   ]
  },
  {
   "cell_type": "markdown",
   "id": "70084464-c63a-4111-9da9-345f8ef47004",
   "metadata": {},
   "source": [
    "## 9. Write a Python program that creates a class called Bank with properties for bank names and branches. Include methods to add a branch, remove a branch, and display all branches. Create an instance of the Bank class and perform operations to add and remove branches."
   ]
  },
  {
   "cell_type": "code",
   "execution_count": 30,
   "id": "196bf253-b408-40e6-9bbb-241100c0c038",
   "metadata": {},
   "outputs": [],
   "source": [
    "\n",
    "class Bank():\n",
    "    def __init__(self, bank_name):\n",
    "        self.bank_name = bank_name\n",
    "        self.branches = [] \n",
    "    \n",
    "    def add_branch(self, branch_name):\n",
    "        if branch_name not in self.branches:\n",
    "            self.branches.append(branch_name)\n",
    "            print(f\"Branch '{branch_name}' added successfully.\")\n",
    "        else:\n",
    "            print(f\"Branch '{branch_name}' already exists.\")\n",
    "    \n",
    "    def remove_branch(self, branch_name):\n",
    "        if branch_name in self.branches:\n",
    "            self.branches.remove(branch_name)\n",
    "            print(f\"Branch '{branch_name}' removed successfully.\")\n",
    "        else:\n",
    "            print(f\"Branch '{branch_name}' not found.\")\n",
    "    \n",
    "    def display_branches(self):\n",
    "        if self.branches:\n",
    "            print(f\"Branches of {self.bank_name}:\")\n",
    "            print(self.branches)\n",
    "        else:\n",
    "            print(f\"No branches available for {self.bank_name}.\")\n"
   ]
  },
  {
   "cell_type": "code",
   "execution_count": 32,
   "id": "f6e72df0-92a9-4dbc-b890-28971483cee9",
   "metadata": {},
   "outputs": [],
   "source": [
    "bank = Bank(bank_name=\"Global Bank\")"
   ]
  },
  {
   "cell_type": "code",
   "execution_count": 34,
   "id": "debf2a58-bc04-485f-9a39-bc524229c13a",
   "metadata": {},
   "outputs": [
    {
     "name": "stdout",
     "output_type": "stream",
     "text": [
      "Branch 'New York' added successfully.\n",
      "Branch 'Los Angeles' added successfully.\n",
      "Branch 'Chicago' added successfully.\n"
     ]
    }
   ],
   "source": [
    "bank.add_branch(\"New York\")\n",
    "bank.add_branch(\"Los Angeles\")\n",
    "bank.add_branch(\"Chicago\")"
   ]
  },
  {
   "cell_type": "code",
   "execution_count": 36,
   "id": "3fb45532-f312-464a-bbf7-787b041f0a0f",
   "metadata": {},
   "outputs": [
    {
     "name": "stdout",
     "output_type": "stream",
     "text": [
      "Branches of Global Bank:\n",
      "['New York', 'Los Angeles', 'Chicago']\n"
     ]
    }
   ],
   "source": [
    "bank.display_branches()\n"
   ]
  },
  {
   "cell_type": "code",
   "execution_count": 38,
   "id": "f08b693e-5529-4ece-b140-08d14edb52ab",
   "metadata": {},
   "outputs": [
    {
     "name": "stdout",
     "output_type": "stream",
     "text": [
      "Branch 'Los Angeles' removed successfully.\n"
     ]
    }
   ],
   "source": [
    "bank.remove_branch(\"Los Angeles\")"
   ]
  },
  {
   "cell_type": "code",
   "execution_count": 40,
   "id": "cd4f2fd3-3d76-4f83-a445-112ed492fef1",
   "metadata": {},
   "outputs": [
    {
     "name": "stdout",
     "output_type": "stream",
     "text": [
      "Branches of Global Bank:\n",
      "['New York', 'Chicago']\n"
     ]
    }
   ],
   "source": [
    "bank.display_branches()\n"
   ]
  },
  {
   "cell_type": "markdown",
   "id": "e1d7f163-d10f-43f3-b27b-95ed5148dda8",
   "metadata": {},
   "source": [
    "## 10. Write a Python program that creates a class called Product with properties for product ID, name, and price. Include a method to calculate the total price by multiplying the price by the quantity. Create a subclass called  that inherits from the Product class and adds an additional property for the warranty period. Override the total price calculation method to include the warranty period. Createan instance of the PersonalCareProduct class and calculate its total price. "
   ]
  },
  {
   "cell_type": "code",
   "execution_count": 109,
   "id": "a696bb21-e68a-471f-b7bd-a76369c2262a",
   "metadata": {},
   "outputs": [],
   "source": [
    "class Product():\n",
    "    def __init__(self, product_id, name, price):\n",
    "        self.product_id = product_id  \n",
    "        self.name = name \n",
    "        self.price = price \n",
    "    \n",
    "    def calculate_total_price(self):\n",
    "        self.quantity = float(input(\"Enter no of quantity\"))\n",
    "        self.totalprice = float(self.price * self.quantity)\n",
    "        return f\"Total price is : {self.totalprice }\"\n",
    "\n",
    "class PersonalCareProduct(Product):\n",
    "    def __init__(self, product_id, name, price, warranty_period):\n",
    "        super().__init__(product_id, name, price)\n",
    "        self.warranty_period = warranty_period\n",
    "    \n",
    "    def calculate_total_price(self):\n",
    "        super().calculate_total_price()\n",
    "        self.warranty_cost = float(50 * self.quantity)\n",
    "        self.overall_price = self.totalprice + self.warranty_cost\n",
    "        print(f\"After warrenty_cost Total price is : {self.overall_price}\")\n"
   ]
  },
  {
   "cell_type": "code",
   "execution_count": 111,
   "id": "007a70c6-9320-4c37-8d90-674b345af244",
   "metadata": {},
   "outputs": [],
   "source": [
    "product = PersonalCareProduct(101,\"Shampoo\",500,12)"
   ]
  },
  {
   "cell_type": "code",
   "execution_count": 113,
   "id": "5ea10654-f1de-4d15-9528-e8722b671374",
   "metadata": {},
   "outputs": [
    {
     "name": "stdin",
     "output_type": "stream",
     "text": [
      "Enter no of quantity 5\n"
     ]
    },
    {
     "name": "stdout",
     "output_type": "stream",
     "text": [
      "After warrenty_cost Total price is : 2750.0\n"
     ]
    }
   ],
   "source": [
    "product.calculate_total_price()"
   ]
  },
  {
   "cell_type": "markdown",
   "id": "c2458128-a371-492a-be16-2589ceb5712d",
   "metadata": {},
   "source": [
    "## 11. Write a Python program that creates a class called BankAccount with properties for account number, account holder name, and balance. Include methods to deposit, withdraw, and transfer money between accounts. Create multiple instances of the BankAccount class and perform operations such as depositing, withdrawing, and transferring money."
   ]
  },
  {
   "cell_type": "code",
   "execution_count": 117,
   "id": "66f2571e-a73a-4d31-aead-f68aa32e84d5",
   "metadata": {},
   "outputs": [],
   "source": [
    "class BankAccount:\n",
    "    def __init__(self, account_number, account_holder, balance=0.0):\n",
    "        self.account_number = account_number\n",
    "        self.account_holder = account_holder\n",
    "        self.balance = balance\n",
    "\n",
    "    def deposit(self, amount):\n",
    "        if amount <= 0:\n",
    "            print(\"Deposit amount must be positive!\")\n",
    "        else:\n",
    "            self.balance += amount\n",
    "            print(f\"Deposited {amount}. New balance: {self.balance}\")\n",
    "\n",
    "    def withdraw(self, amount):\n",
    "        if amount <= 0:\n",
    "            print(\"Withdrawal amount must be positive!\")\n",
    "        elif amount > self.balance:\n",
    "            print(\"Insufficient balance!\")\n",
    "        else:\n",
    "            self.balance -= amount\n",
    "            print(f\"Withdrew {amount}. New balance: {self.balance}\")\n",
    "\n",
    "    def transfer(self, target_account, amount):\n",
    "        if amount <= 0:\n",
    "            print(\"Transfer amount must be positive!\")\n",
    "        elif amount > self.balance:\n",
    "            print(\"Insufficient balance to transfer!\")\n",
    "        else:\n",
    "            self.balance -= amount\n",
    "            target_account.balance += amount\n",
    "            print(f\"Transferred {amount} to {target_account.account_holder}'s account.\")\n",
    "            print(f\"Your new balance: {self.balance}\")\n",
    "            print(f\"{target_account.account_holder}'s new balance: {target_account.balance}\")\n"
   ]
  },
  {
   "cell_type": "code",
   "execution_count": 119,
   "id": "c19de71c-9a5a-4695-9629-91dc910a450c",
   "metadata": {},
   "outputs": [],
   "source": [
    "account1 = BankAccount(\"1\",\"Sufyan\",50000)\n",
    "account2 = BankAccount(\"2\",\"Ameer\", 30000)"
   ]
  },
  {
   "cell_type": "code",
   "execution_count": 121,
   "id": "cff730f1-42d1-459f-ad7e-6a729e35ed7f",
   "metadata": {},
   "outputs": [
    {
     "name": "stdout",
     "output_type": "stream",
     "text": [
      "Deposited 2000. New balance: 52000\n",
      "Withdrew 10000. New balance: 42000\n",
      "Transferred 15000 to Ameer's account.\n",
      "Your new balance: 27000\n",
      "Ameer's new balance: 45000\n"
     ]
    }
   ],
   "source": [
    "account1.deposit(2000)\n",
    "account1.withdraw(10000)  \n",
    "account1.transfer(account2, 15000)  "
   ]
  },
  {
   "cell_type": "code",
   "execution_count": 123,
   "id": "a925c08c-3232-4bec-ac59-8c9c406547b7",
   "metadata": {},
   "outputs": [
    {
     "name": "stdout",
     "output_type": "stream",
     "text": [
      "Sufyan final balance:27000\n",
      "Ameer final balance:45000\n"
     ]
    }
   ],
   "source": [
    "print(f\"Sufyan final balance:{account1.balance}\")\n",
    "print(f\"Ameer final balance:{account2.balance}\")"
   ]
  },
  {
   "cell_type": "markdown",
   "id": "4e3f3377-b7b4-4468-aeed-1598e37cf4c2",
   "metadata": {},
   "source": [
    "## 12. Write a Python program that creates a class called University with properties for university name and departments. Include methods to add a department, remove a department, and display all departments. Create an instance of the University class and add and remove departments."
   ]
  },
  {
   "cell_type": "code",
   "execution_count": 125,
   "id": "a32d8159-df2e-4805-a4df-b77062a3c8b3",
   "metadata": {},
   "outputs": [],
   "source": [
    "class University:\n",
    "    def __init__(self, university_name):\n",
    "        self.university_name = university_name\n",
    "        self.departments = []\n",
    "\n",
    "    def add_department(self, department_name):\n",
    "        if department_name not in self.departments:\n",
    "            self.departments.append(department_name)\n",
    "            print(f\"Department '{department_name}' added to {self.university_name}.\")\n",
    "        else:\n",
    "            print(f\"Department '{department_name}' already exists in {self.university_name}.\")\n",
    "\n",
    "    def remove_department(self, department_name):\n",
    "        if department_name in self.departments:\n",
    "            self.departments.remove(department_name)\n",
    "            print(f\"Department '{department_name}' removed from {self.university_name}.\")\n",
    "        else:\n",
    "            print(f\"Department '{department_name}' does not exist in {self.university_name}.\")\n",
    "\n",
    "    def display_departments(self):\n",
    "        if self.departments:\n",
    "            print(f\"Departments in {self.university_name}:\")\n",
    "            for dept in self.departments:\n",
    "                print(f\"- {dept}\")\n",
    "        else:\n",
    "            print(f\"No departments available in {self.university_name}.\")\n"
   ]
  },
  {
   "cell_type": "code",
   "execution_count": 138,
   "id": "4db41391-5de8-4dc8-bf9d-5e2c33d26066",
   "metadata": {},
   "outputs": [],
   "source": [
    "university = University(\"SMIU University\")"
   ]
  },
  {
   "cell_type": "code",
   "execution_count": 140,
   "id": "a2b90890-3f18-4299-9112-56e203b1bbce",
   "metadata": {},
   "outputs": [
    {
     "name": "stdout",
     "output_type": "stream",
     "text": [
      "Department 'Computer Science' added to SMIU University.\n",
      "Department 'Mathematics' added to SMIU University.\n",
      "Department 'Engineering' added to SMIU University.\n"
     ]
    }
   ],
   "source": [
    "university.add_department(\"Computer Science\")\n",
    "university.add_department(\"Mathematics\")\n",
    "university.add_department(\"Engineering\")"
   ]
  },
  {
   "cell_type": "code",
   "execution_count": 142,
   "id": "8a819db2-5b51-4a15-be7e-3faa6fa1f564",
   "metadata": {},
   "outputs": [
    {
     "name": "stdout",
     "output_type": "stream",
     "text": [
      "Departments in SMIU University:\n",
      "- Computer Science\n",
      "- Mathematics\n",
      "- Engineering\n"
     ]
    }
   ],
   "source": [
    "university.display_departments()"
   ]
  },
  {
   "cell_type": "code",
   "execution_count": 144,
   "id": "b3d2392d-3135-4305-8502-2e063276517b",
   "metadata": {},
   "outputs": [
    {
     "name": "stdout",
     "output_type": "stream",
     "text": [
      "Department 'Mathematics' removed from SMIU University.\n"
     ]
    }
   ],
   "source": [
    "university.remove_department(\"Mathematics\")"
   ]
  },
  {
   "cell_type": "code",
   "execution_count": 146,
   "id": "5544e355-8987-45d1-af92-25fc7666144c",
   "metadata": {},
   "outputs": [
    {
     "name": "stdout",
     "output_type": "stream",
     "text": [
      "Departments in SMIU University:\n",
      "- Computer Science\n",
      "- Engineering\n"
     ]
    }
   ],
   "source": [
    "university.display_departments()"
   ]
  },
  {
   "cell_type": "code",
   "execution_count": null,
   "id": "a19a3d41-31fe-49f1-833e-364c2a9cc4ef",
   "metadata": {},
   "outputs": [],
   "source": []
  }
 ],
 "metadata": {
  "kernelspec": {
   "display_name": "Python 3 (ipykernel)",
   "language": "python",
   "name": "python3"
  },
  "language_info": {
   "codemirror_mode": {
    "name": "ipython",
    "version": 3
   },
   "file_extension": ".py",
   "mimetype": "text/x-python",
   "name": "python",
   "nbconvert_exporter": "python",
   "pygments_lexer": "ipython3",
   "version": "3.12.7"
  }
 },
 "nbformat": 4,
 "nbformat_minor": 5
}
